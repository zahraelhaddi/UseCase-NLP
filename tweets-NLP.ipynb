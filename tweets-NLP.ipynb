{
 "cells": [
  {
   "cell_type": "markdown",
   "id": "277e82c3-992a-4b54-9532-21cd8f76b902",
   "metadata": {},
   "source": [
    "## Use Case : tweets NLP - Part 2\n",
    "This notebook addresses the use case of analyzing tweets related to **Inwi** and the **Moroccan telecommunications sector**.\n",
    "\n",
    "This is the **second notebook** of this use case (**tweets-NLP.ipynb**) that applies NLP on the tweets for sentiment analysis.\n",
    "\n",
    "### Objectives:\n",
    "- Ingest fresh tweets their metadata using Selenium for web scraping.\n",
    "- Extract 10 tweets discussing Inwi and 10 tweets discussing the Moroccan telco sector.\n",
    "- Store the tweets and their metadata in a SQlite database.\n",
    "- Analyze the sentiment of tweets and score them from 0 (negative) to 1 (positive).\n",
    "- Investigate common topics in negative tweets."
   ]
  },
  {
   "cell_type": "code",
   "execution_count": 2,
   "id": "9133e2dc-c0dc-4861-ad21-611fa55f6d9b",
   "metadata": {
    "scrolled": true
   },
   "outputs": [
    {
     "name": "stdout",
     "output_type": "stream",
     "text": [
      "Requirement already satisfied: seaborn in c:\\users\\zahra\\desktop\\jupyterprojects\\venv\\lib\\site-packages (0.13.2)\n",
      "Requirement already satisfied: vaderSentiment in c:\\users\\zahra\\desktop\\jupyterprojects\\venv\\lib\\site-packages (3.3.2)\n",
      "Requirement already satisfied: transformers in c:\\users\\zahra\\desktop\\jupyterprojects\\venv\\lib\\site-packages (4.46.2)\n",
      "Requirement already satisfied: matplotlib in c:\\users\\zahra\\desktop\\jupyterprojects\\venv\\lib\\site-packages (3.9.2)\n",
      "Requirement already satisfied: langchain in c:\\users\\zahra\\desktop\\jupyterprojects\\venv\\lib\\site-packages (0.3.7)\n",
      "Requirement already satisfied: numpy!=1.24.0,>=1.20 in c:\\users\\zahra\\desktop\\jupyterprojects\\venv\\lib\\site-packages (from seaborn) (1.26.4)\n",
      "Requirement already satisfied: pandas>=1.2 in c:\\users\\zahra\\desktop\\jupyterprojects\\venv\\lib\\site-packages (from seaborn) (2.2.3)\n",
      "Requirement already satisfied: requests in c:\\users\\zahra\\desktop\\jupyterprojects\\venv\\lib\\site-packages (from vaderSentiment) (2.32.3)\n",
      "Requirement already satisfied: filelock in c:\\users\\zahra\\desktop\\jupyterprojects\\venv\\lib\\site-packages (from transformers) (3.16.1)\n",
      "Requirement already satisfied: huggingface-hub<1.0,>=0.23.2 in c:\\users\\zahra\\desktop\\jupyterprojects\\venv\\lib\\site-packages (from transformers) (0.26.2)\n",
      "Requirement already satisfied: packaging>=20.0 in c:\\users\\zahra\\desktop\\jupyterprojects\\venv\\lib\\site-packages (from transformers) (24.1)\n",
      "Requirement already satisfied: pyyaml>=5.1 in c:\\users\\zahra\\desktop\\jupyterprojects\\venv\\lib\\site-packages (from transformers) (6.0.2)\n",
      "Requirement already satisfied: regex!=2019.12.17 in c:\\users\\zahra\\desktop\\jupyterprojects\\venv\\lib\\site-packages (from transformers) (2024.11.6)\n",
      "Requirement already satisfied: safetensors>=0.4.1 in c:\\users\\zahra\\desktop\\jupyterprojects\\venv\\lib\\site-packages (from transformers) (0.4.5)\n",
      "Requirement already satisfied: tokenizers<0.21,>=0.20 in c:\\users\\zahra\\desktop\\jupyterprojects\\venv\\lib\\site-packages (from transformers) (0.20.3)\n",
      "Requirement already satisfied: tqdm>=4.27 in c:\\users\\zahra\\desktop\\jupyterprojects\\venv\\lib\\site-packages (from transformers) (4.66.5)\n",
      "Requirement already satisfied: contourpy>=1.0.1 in c:\\users\\zahra\\desktop\\jupyterprojects\\venv\\lib\\site-packages (from matplotlib) (1.3.0)\n",
      "Requirement already satisfied: cycler>=0.10 in c:\\users\\zahra\\desktop\\jupyterprojects\\venv\\lib\\site-packages (from matplotlib) (0.12.1)\n",
      "Requirement already satisfied: fonttools>=4.22.0 in c:\\users\\zahra\\desktop\\jupyterprojects\\venv\\lib\\site-packages (from matplotlib) (4.54.1)\n",
      "Requirement already satisfied: kiwisolver>=1.3.1 in c:\\users\\zahra\\desktop\\jupyterprojects\\venv\\lib\\site-packages (from matplotlib) (1.4.7)\n",
      "Requirement already satisfied: pillow>=8 in c:\\users\\zahra\\desktop\\jupyterprojects\\venv\\lib\\site-packages (from matplotlib) (10.4.0)\n",
      "Requirement already satisfied: pyparsing>=2.3.1 in c:\\users\\zahra\\desktop\\jupyterprojects\\venv\\lib\\site-packages (from matplotlib) (3.1.4)\n",
      "Requirement already satisfied: python-dateutil>=2.7 in c:\\users\\zahra\\desktop\\jupyterprojects\\venv\\lib\\site-packages (from matplotlib) (2.9.0.post0)\n",
      "Requirement already satisfied: SQLAlchemy<3,>=1.4 in c:\\users\\zahra\\desktop\\jupyterprojects\\venv\\lib\\site-packages (from langchain) (2.0.35)\n",
      "Requirement already satisfied: aiohttp<4.0.0,>=3.8.3 in c:\\users\\zahra\\desktop\\jupyterprojects\\venv\\lib\\site-packages (from langchain) (3.11.2)\n",
      "Requirement already satisfied: langchain-core<0.4.0,>=0.3.15 in c:\\users\\zahra\\desktop\\jupyterprojects\\venv\\lib\\site-packages (from langchain) (0.3.19)\n",
      "Requirement already satisfied: langchain-text-splitters<0.4.0,>=0.3.0 in c:\\users\\zahra\\desktop\\jupyterprojects\\venv\\lib\\site-packages (from langchain) (0.3.2)\n",
      "Requirement already satisfied: langsmith<0.2.0,>=0.1.17 in c:\\users\\zahra\\desktop\\jupyterprojects\\venv\\lib\\site-packages (from langchain) (0.1.143)\n",
      "Requirement already satisfied: pydantic<3.0.0,>=2.7.4 in c:\\users\\zahra\\desktop\\jupyterprojects\\venv\\lib\\site-packages (from langchain) (2.9.2)\n",
      "Requirement already satisfied: tenacity!=8.4.0,<10,>=8.1.0 in c:\\users\\zahra\\desktop\\jupyterprojects\\venv\\lib\\site-packages (from langchain) (9.0.0)\n",
      "Requirement already satisfied: aiohappyeyeballs>=2.3.0 in c:\\users\\zahra\\desktop\\jupyterprojects\\venv\\lib\\site-packages (from aiohttp<4.0.0,>=3.8.3->langchain) (2.4.3)\n",
      "Requirement already satisfied: aiosignal>=1.1.2 in c:\\users\\zahra\\desktop\\jupyterprojects\\venv\\lib\\site-packages (from aiohttp<4.0.0,>=3.8.3->langchain) (1.3.1)\n",
      "Requirement already satisfied: attrs>=17.3.0 in c:\\users\\zahra\\desktop\\jupyterprojects\\venv\\lib\\site-packages (from aiohttp<4.0.0,>=3.8.3->langchain) (24.2.0)\n",
      "Requirement already satisfied: frozenlist>=1.1.1 in c:\\users\\zahra\\desktop\\jupyterprojects\\venv\\lib\\site-packages (from aiohttp<4.0.0,>=3.8.3->langchain) (1.5.0)\n",
      "Requirement already satisfied: multidict<7.0,>=4.5 in c:\\users\\zahra\\desktop\\jupyterprojects\\venv\\lib\\site-packages (from aiohttp<4.0.0,>=3.8.3->langchain) (6.1.0)\n",
      "Requirement already satisfied: propcache>=0.2.0 in c:\\users\\zahra\\desktop\\jupyterprojects\\venv\\lib\\site-packages (from aiohttp<4.0.0,>=3.8.3->langchain) (0.2.0)\n",
      "Requirement already satisfied: yarl<2.0,>=1.17.0 in c:\\users\\zahra\\desktop\\jupyterprojects\\venv\\lib\\site-packages (from aiohttp<4.0.0,>=3.8.3->langchain) (1.17.1)\n",
      "Requirement already satisfied: fsspec>=2023.5.0 in c:\\users\\zahra\\desktop\\jupyterprojects\\venv\\lib\\site-packages (from huggingface-hub<1.0,>=0.23.2->transformers) (2024.10.0)\n",
      "Requirement already satisfied: typing-extensions>=3.7.4.3 in c:\\users\\zahra\\desktop\\jupyterprojects\\venv\\lib\\site-packages (from huggingface-hub<1.0,>=0.23.2->transformers) (4.12.2)\n",
      "Requirement already satisfied: jsonpatch<2.0,>=1.33 in c:\\users\\zahra\\desktop\\jupyterprojects\\venv\\lib\\site-packages (from langchain-core<0.4.0,>=0.3.15->langchain) (1.33)\n",
      "Requirement already satisfied: httpx<1,>=0.23.0 in c:\\users\\zahra\\desktop\\jupyterprojects\\venv\\lib\\site-packages (from langsmith<0.2.0,>=0.1.17->langchain) (0.27.2)\n",
      "Requirement already satisfied: orjson<4.0.0,>=3.9.14 in c:\\users\\zahra\\desktop\\jupyterprojects\\venv\\lib\\site-packages (from langsmith<0.2.0,>=0.1.17->langchain) (3.10.11)\n",
      "Requirement already satisfied: requests-toolbelt<2.0.0,>=1.0.0 in c:\\users\\zahra\\desktop\\jupyterprojects\\venv\\lib\\site-packages (from langsmith<0.2.0,>=0.1.17->langchain) (1.0.0)\n",
      "Requirement already satisfied: pytz>=2020.1 in c:\\users\\zahra\\desktop\\jupyterprojects\\venv\\lib\\site-packages (from pandas>=1.2->seaborn) (2024.2)\n",
      "Requirement already satisfied: tzdata>=2022.7 in c:\\users\\zahra\\desktop\\jupyterprojects\\venv\\lib\\site-packages (from pandas>=1.2->seaborn) (2024.2)\n",
      "Requirement already satisfied: annotated-types>=0.6.0 in c:\\users\\zahra\\desktop\\jupyterprojects\\venv\\lib\\site-packages (from pydantic<3.0.0,>=2.7.4->langchain) (0.7.0)\n",
      "Requirement already satisfied: pydantic-core==2.23.4 in c:\\users\\zahra\\desktop\\jupyterprojects\\venv\\lib\\site-packages (from pydantic<3.0.0,>=2.7.4->langchain) (2.23.4)\n",
      "Requirement already satisfied: six>=1.5 in c:\\users\\zahra\\desktop\\jupyterprojects\\venv\\lib\\site-packages (from python-dateutil>=2.7->matplotlib) (1.16.0)\n",
      "Requirement already satisfied: charset-normalizer<4,>=2 in c:\\users\\zahra\\desktop\\jupyterprojects\\venv\\lib\\site-packages (from requests->vaderSentiment) (3.3.2)\n",
      "Requirement already satisfied: idna<4,>=2.5 in c:\\users\\zahra\\desktop\\jupyterprojects\\venv\\lib\\site-packages (from requests->vaderSentiment) (3.10)\n",
      "Requirement already satisfied: urllib3<3,>=1.21.1 in c:\\users\\zahra\\desktop\\jupyterprojects\\venv\\lib\\site-packages (from requests->vaderSentiment) (1.26.20)\n",
      "Requirement already satisfied: certifi>=2017.4.17 in c:\\users\\zahra\\desktop\\jupyterprojects\\venv\\lib\\site-packages (from requests->vaderSentiment) (2024.8.30)\n",
      "Requirement already satisfied: greenlet!=0.4.17 in c:\\users\\zahra\\desktop\\jupyterprojects\\venv\\lib\\site-packages (from SQLAlchemy<3,>=1.4->langchain) (3.1.1)\n",
      "Requirement already satisfied: colorama in c:\\users\\zahra\\desktop\\jupyterprojects\\venv\\lib\\site-packages (from tqdm>=4.27->transformers) (0.4.6)\n",
      "Requirement already satisfied: anyio in c:\\users\\zahra\\desktop\\jupyterprojects\\venv\\lib\\site-packages (from httpx<1,>=0.23.0->langsmith<0.2.0,>=0.1.17->langchain) (4.6.0)\n",
      "Requirement already satisfied: httpcore==1.* in c:\\users\\zahra\\desktop\\jupyterprojects\\venv\\lib\\site-packages (from httpx<1,>=0.23.0->langsmith<0.2.0,>=0.1.17->langchain) (1.0.5)\n",
      "Requirement already satisfied: sniffio in c:\\users\\zahra\\desktop\\jupyterprojects\\venv\\lib\\site-packages (from httpx<1,>=0.23.0->langsmith<0.2.0,>=0.1.17->langchain) (1.3.1)\n",
      "Requirement already satisfied: h11<0.15,>=0.13 in c:\\users\\zahra\\desktop\\jupyterprojects\\venv\\lib\\site-packages (from httpcore==1.*->httpx<1,>=0.23.0->langsmith<0.2.0,>=0.1.17->langchain) (0.14.0)\n",
      "Requirement already satisfied: jsonpointer>=1.9 in c:\\users\\zahra\\desktop\\jupyterprojects\\venv\\lib\\site-packages (from jsonpatch<2.0,>=1.33->langchain-core<0.4.0,>=0.3.15->langchain) (3.0.0)\n"
     ]
    },
    {
     "name": "stderr",
     "output_type": "stream",
     "text": [
      "\n",
      "[notice] A new release of pip is available: 23.2.1 -> 24.3.1\n",
      "[notice] To update, run: C:\\Users\\Zahra\\Desktop\\JupyterProjects\\venv\\Scripts\\python.exe -m pip install --upgrade pip\n"
     ]
    }
   ],
   "source": [
    "!pip install seaborn vaderSentiment transformers matplotlib langchain"
   ]
  },
  {
   "cell_type": "markdown",
   "id": "2b7c2193-5569-449c-af36-01066840cd88",
   "metadata": {},
   "source": [
    "#### Imports"
   ]
  },
  {
   "cell_type": "code",
   "execution_count": 131,
   "id": "c64bdbc9-7efc-4f87-89df-a343bbb1d1ef",
   "metadata": {},
   "outputs": [],
   "source": [
    "import pandas as pd\n",
    "import sqlite3\n",
    "import numpy as np\n",
    "import matplotlib.pyplot as plt\n",
    "import seaborn as sns\n",
    "from vaderSentiment.vaderSentiment import SentimentIntensityAnalyzer\n",
    "from transformers import pipeline\n",
    "from langchain.llms import HuggingFacePipeline\n",
    "from langchain.prompts import PromptTemplate\n",
    "from langchain.chains import LLMChain\n",
    "\n",
    "plt.style.use('ggplot')"
   ]
  },
  {
   "cell_type": "markdown",
   "id": "7f145b98-84b1-4e9f-8f65-595565f9e8ee",
   "metadata": {},
   "source": [
    "### Connect to SQLite database and load tweets"
   ]
  },
  {
   "cell_type": "code",
   "execution_count": 132,
   "id": "d7afcfba-1668-4ee3-99e0-4ca1ac54f39a",
   "metadata": {},
   "outputs": [
    {
     "name": "stdout",
     "output_type": "stream",
     "text": [
      "Total tweets: 20\n",
      "   id                                         tweet_text           tweet_date  \\\n",
      "0   1   Après la LNFP, c'est au la Botola Pro INWI qu...  2024-11-09 22:07:54   \n",
      "1   2     Official Botola Pro Inwi page will follow soon  2024-11-09 21:38:11   \n",
      "2   3  Je pense très sincèrement que l’absurdité est ...  2024-11-09 10:59:35   \n",
      "3   4         Botola Inwi Pro is corrupted \\n@fifacom_fr  2024-11-09 21:50:20   \n",
      "4   5  Programme de la 5eme journée du championnat du...  2024-11-16 08:35:29   \n",
      "\n",
      "   nbr_characters  nbr_retweets  nbr_likes                  author  \n",
      "0             115             0          8              BotolaNews  \n",
      "1              46             3         30  𝗠𝗩𝗡_𝗘𝗡 | 𝗙𝗼𝗼𝘁𝗯𝗮𝗹𝗹 𝗡𝗲𝘄𝘀  \n",
      "2             224             1          2       from 04 with love  \n",
      "3              41             0          2                  🅜🅞🅝🅒🅔🅕  \n",
      "4             189             0          4                  Saad M  \n"
     ]
    }
   ],
   "source": [
    "# Connect to the SQLite database\n",
    "conn = sqlite3.connect(\"tweetsDB.db\")\n",
    "\n",
    "# Fetch data into a pandas DataFrame\n",
    "query = \"SELECT id, tweet_text, tweet_date, nbr_characters, nbr_retweets, nbr_likes, author FROM tweets\"\n",
    "df = pd.read_sql_query(query, conn)\n",
    "\n",
    "# Display the first few rows\n",
    "print(\"Total tweets:\", len(df))\n",
    "print(df.head())"
   ]
  },
  {
   "cell_type": "code",
   "execution_count": 133,
   "id": "74af686a-545c-41de-ba44-49a59442199a",
   "metadata": {},
   "outputs": [
    {
     "data": {
      "text/plain": [
       "(20, 7)"
      ]
     },
     "execution_count": 133,
     "metadata": {},
     "output_type": "execute_result"
    }
   ],
   "source": [
    "df.shape"
   ]
  },
  {
   "cell_type": "code",
   "execution_count": 134,
   "id": "a37b6606-3880-490d-8ab2-de5b4110380b",
   "metadata": {},
   "outputs": [
    {
     "data": {
      "text/html": [
       "<div>\n",
       "<style scoped>\n",
       "    .dataframe tbody tr th:only-of-type {\n",
       "        vertical-align: middle;\n",
       "    }\n",
       "\n",
       "    .dataframe tbody tr th {\n",
       "        vertical-align: top;\n",
       "    }\n",
       "\n",
       "    .dataframe thead th {\n",
       "        text-align: right;\n",
       "    }\n",
       "</style>\n",
       "<table border=\"1\" class=\"dataframe\">\n",
       "  <thead>\n",
       "    <tr style=\"text-align: right;\">\n",
       "      <th></th>\n",
       "      <th>id</th>\n",
       "      <th>tweet_text</th>\n",
       "      <th>tweet_date</th>\n",
       "      <th>nbr_characters</th>\n",
       "      <th>nbr_retweets</th>\n",
       "      <th>nbr_likes</th>\n",
       "      <th>author</th>\n",
       "    </tr>\n",
       "  </thead>\n",
       "  <tbody>\n",
       "    <tr>\n",
       "      <th>0</th>\n",
       "      <td>1</td>\n",
       "      <td>Après la LNFP, c'est au la Botola Pro INWI qu...</td>\n",
       "      <td>2024-11-09 22:07:54</td>\n",
       "      <td>115</td>\n",
       "      <td>0</td>\n",
       "      <td>8</td>\n",
       "      <td>BotolaNews</td>\n",
       "    </tr>\n",
       "    <tr>\n",
       "      <th>1</th>\n",
       "      <td>2</td>\n",
       "      <td>Official Botola Pro Inwi page will follow soon</td>\n",
       "      <td>2024-11-09 21:38:11</td>\n",
       "      <td>46</td>\n",
       "      <td>3</td>\n",
       "      <td>30</td>\n",
       "      <td>𝗠𝗩𝗡_𝗘𝗡 | 𝗙𝗼𝗼𝘁𝗯𝗮𝗹𝗹 𝗡𝗲𝘄𝘀</td>\n",
       "    </tr>\n",
       "    <tr>\n",
       "      <th>2</th>\n",
       "      <td>3</td>\n",
       "      <td>Je pense très sincèrement que l’absurdité est ...</td>\n",
       "      <td>2024-11-09 10:59:35</td>\n",
       "      <td>224</td>\n",
       "      <td>1</td>\n",
       "      <td>2</td>\n",
       "      <td>from 04 with love</td>\n",
       "    </tr>\n",
       "    <tr>\n",
       "      <th>3</th>\n",
       "      <td>4</td>\n",
       "      <td>Botola Inwi Pro is corrupted \\n@fifacom_fr</td>\n",
       "      <td>2024-11-09 21:50:20</td>\n",
       "      <td>41</td>\n",
       "      <td>0</td>\n",
       "      <td>2</td>\n",
       "      <td>🅜🅞🅝🅒🅔🅕</td>\n",
       "    </tr>\n",
       "    <tr>\n",
       "      <th>4</th>\n",
       "      <td>5</td>\n",
       "      <td>Programme de la 5eme journée du championnat du...</td>\n",
       "      <td>2024-11-16 08:35:29</td>\n",
       "      <td>189</td>\n",
       "      <td>0</td>\n",
       "      <td>4</td>\n",
       "      <td>Saad M</td>\n",
       "    </tr>\n",
       "  </tbody>\n",
       "</table>\n",
       "</div>"
      ],
      "text/plain": [
       "   id                                         tweet_text           tweet_date  \\\n",
       "0   1   Après la LNFP, c'est au la Botola Pro INWI qu...  2024-11-09 22:07:54   \n",
       "1   2     Official Botola Pro Inwi page will follow soon  2024-11-09 21:38:11   \n",
       "2   3  Je pense très sincèrement que l’absurdité est ...  2024-11-09 10:59:35   \n",
       "3   4         Botola Inwi Pro is corrupted \\n@fifacom_fr  2024-11-09 21:50:20   \n",
       "4   5  Programme de la 5eme journée du championnat du...  2024-11-16 08:35:29   \n",
       "\n",
       "   nbr_characters  nbr_retweets  nbr_likes                  author  \n",
       "0             115             0          8              BotolaNews  \n",
       "1              46             3         30  𝗠𝗩𝗡_𝗘𝗡 | 𝗙𝗼𝗼𝘁𝗯𝗮𝗹𝗹 𝗡𝗲𝘄𝘀  \n",
       "2             224             1          2       from 04 with love  \n",
       "3              41             0          2                  🅜🅞🅝🅒🅔🅕  \n",
       "4             189             0          4                  Saad M  "
      ]
     },
     "execution_count": 134,
     "metadata": {},
     "output_type": "execute_result"
    }
   ],
   "source": [
    "df.head()"
   ]
  },
  {
   "cell_type": "markdown",
   "id": "26ba5d2d-5f09-4e11-96fa-a0565822ad89",
   "metadata": {},
   "source": [
    "#### EDA"
   ]
  },
  {
   "cell_type": "code",
   "execution_count": 135,
   "id": "adb3b9fa-b59c-4833-89a0-1bf22eb8389c",
   "metadata": {},
   "outputs": [
    {
     "data": {
      "text/plain": [
       "<Axes: title={'center': 'Retweets Distribution'}>"
      ]
     },
     "execution_count": 135,
     "metadata": {},
     "output_type": "execute_result"
    },
    {
     "data": {
      "image/png": "[encoded data removed]",
      "text/plain": [
       "<Figure size 640x480 with 1 Axes>"
      ]
     },
     "metadata": {},
     "output_type": "display_data"
    }
   ],
   "source": [
    "df['nbr_retweets'].plot(kind='bar', title='Retweets Distribution')"
   ]
  },
  {
   "cell_type": "code",
   "execution_count": 136,
   "id": "766e785a-f833-4487-8495-03b0316eb2be",
   "metadata": {},
   "outputs": [
    {
     "data": {
      "text/plain": [
       "<Axes: title={'center': 'Likes Distribution'}>"
      ]
     },
     "execution_count": 136,
     "metadata": {},
     "output_type": "execute_result"
    },
    {
     "data": {
      "image/png": "[encoded data removed]",
      "text/plain": [
       "<Figure size 640x480 with 1 Axes>"
      ]
     },
     "metadata": {},
     "output_type": "display_data"
    }
   ],
   "source": [
    "df['nbr_likes'].plot(kind='bar', title='Likes Distribution')"
   ]
  },
  {
   "cell_type": "code",
   "execution_count": 147,
   "id": "2b418eb1-c8d0-4734-a437-27ae3b5a56d8",
   "metadata": {},
   "outputs": [
    {
     "name": "stdout",
     "output_type": "stream",
     "text": [
      " Après la LNFP, c'est au la Botola Pro INWI qui aura très prochainement un compte officiel sur les réseaux sociaux.\n"
     ]
    }
   ],
   "source": [
    "example=df['tweet_text'][0]\n",
    "print(example)"
   ]
  },
  {
   "cell_type": "code",
   "execution_count": null,
   "id": "52ac741e-b9e5-475d-acf0-c71e24a51bdf",
   "metadata": {},
   "outputs": [],
   "source": []
  },
  {
   "cell_type": "markdown",
   "id": "f76cb148-20f7-4abf-b7d5-ddb7934fe38c",
   "metadata": {},
   "source": [
    "## Method 1: NLP using VADER (Valence Aware Dictionary and sEntiment Reasoner)"
   ]
  },
  {
   "cell_type": "markdown",
   "id": "e7b9b8e2-19b9-4e88-9811-c6fd8b0de4c6",
   "metadata": {},
   "source": [
    "#### convert a VADER compound sentiment score from its original range of -1 to 1 to a new range of 0 to 1"
   ]
  },
  {
   "cell_type": "markdown",
   "id": "ee519909-4e2e-4a30-9b29-56ca89abbb4f",
   "metadata": {},
   "source": [
    "Normalized Score Formula:\n",
    "$$\n",
    "\\text{Normalized Score} = \\frac{\\text{Compound Score} + 1}{2}\n",
    "$$\n"
   ]
  },
  {
   "cell_type": "code",
   "execution_count": 150,
   "id": "6fafbaa7-3f37-4d91-9009-f400b43f41b9",
   "metadata": {},
   "outputs": [],
   "source": [
    "def normalize_score(compound_score):\n",
    "    \"\"\"Convert VADER compound score (-1 to 1) to 0 to 1 scale\"\"\"\n",
    "    return (compound_score + 1) / 2"
   ]
  },
  {
   "cell_type": "markdown",
   "id": "5837eeac-a58f-4942-b53c-47a192d5125e",
   "metadata": {},
   "source": [
    "#### initialize an instance of the **SentimentIntensityAnalyzer** class from the vaderSentiment library.\n",
    "It is a pretrained sentiment analysis tool provided by the vaderSentiment library. \n",
    "\n",
    "It specializes in analyzing the sentiment polarity (positive, negative, or neutral) of text, especially for short and informal texts like tweets, reviews, and comments."
   ]
  },
  {
   "cell_type": "code",
   "execution_count": 152,
   "id": "0be63a8d-5ab4-4ac6-aeb8-311709028e2c",
   "metadata": {},
   "outputs": [],
   "source": [
    "analyzer = SentimentIntensityAnalyzer()"
   ]
  },
  {
   "cell_type": "markdown",
   "id": "be57bf08-df89-423c-8e38-e5fc8ae4631b",
   "metadata": {},
   "source": [
    "#### Analyze sentiment for each tweet"
   ]
  },
  {
   "cell_type": "code",
   "execution_count": 157,
   "id": "000b9c2e-80e2-4c77-aa10-2de016ba4999",
   "metadata": {},
   "outputs": [],
   "source": [
    "vader_scores = []                 #empty list to store the normalized sentiment scores for each tweet.\n",
    "for tweet in df['tweet_text']:\n",
    "    scores = analyzer.polarity_scores(tweet)      \n",
    "    normalized_score = normalize_score(scores['compound'])\n",
    "    vader_scores.append(normalized_score)"
   ]
  },
  {
   "cell_type": "code",
   "execution_count": 164,
   "id": "6a96cf67-ab53-4d2c-b3fc-1397c3c5488b",
   "metadata": {},
   "outputs": [],
   "source": [
    "# add a column to the dataframe containing the sentiment scores\n",
    "df['sentiment_score'] = vader_scores"
   ]
  },
  {
   "cell_type": "code",
   "execution_count": 165,
   "id": "55e6461e-a370-45d7-acec-69eefe43db6d",
   "metadata": {
    "scrolled": true
   },
   "outputs": [
    {
     "name": "stdout",
     "output_type": "stream",
     "text": [
      "\n",
      "VADER Sentiment Analysis Results:\n",
      "                                           tweet_text  sentiment_score\n",
      "0    Après la LNFP, c'est au la Botola Pro INWI qu...          0.50000\n",
      "1      Official Botola Pro Inwi page will follow soon          0.50000\n",
      "2   Je pense très sincèrement que l’absurdité est ...          0.50000\n",
      "3          Botola Inwi Pro is corrupted \\n@fifacom_fr          0.50000\n",
      "4   Programme de la 5eme journée du championnat du...          0.50000\n",
      "5   Tous les buts de la 10ème journée de Botola Pr...          0.50000\n",
      "6                                        INWI \\nMAROC          0.50000\n",
      "7                    Un arbitre de la botola pro inwi          0.50000\n",
      "8   A l'aeroport a casa quand la meuf d'inwi elle ...          0.50000\n",
      "9            PUTANGINA NIYOWO INWI WENDY!!!/₱:₱8:₱:₱:          0.50000\n",
      "10  Pour ceux qui ne realisent pas ce qui est en t...          0.50000\n",
      "11  Le Maroc  lance sa marque MoroccoTech pour con...          0.50000\n",
      "12  | La stratégie \"Maroc digital 2030\" sera bient...          0.60115\n",
      "13  Jusqu’au 30 novembre, profitez de -50% sur vot...          0.50000\n",
      "14  Morocco Now shining on the glass tower of Maro...          0.81845\n",
      "15  Maroc Télécom lyhrkjdbbkmlklb. Le pire service...          0.50000\n",
      "16  — Maroc Télécom est en négociation avec le gou...          0.50000\n",
      "17   | Avec l'aide de Maroc Telecom, Nouakchott ré...          0.50000\n",
      "18  Comment ça Au Maroc  pour un forfait de 49dh s...          0.50000\n",
      "19  Match Maroc-Guinée Equatoriale \\nEnvoyez MAROC...          0.50000\n"
     ]
    }
   ],
   "source": [
    "print(\"\\nVADER Sentiment Analysis Results:\")\n",
    "print(df[['tweet_text', 'sentiment_score']])"
   ]
  },
  {
   "cell_type": "markdown",
   "id": "56458f9d-6b80-4884-8888-7d75dcc171d5",
   "metadata": {},
   "source": [
    "#### categorize the tweets into positive or negative based on sentiment score"
   ]
  },
  {
   "cell_type": "code",
   "execution_count": 166,
   "id": "b54f95e6-5d3f-4a30-ad2a-7a0aa18dc451",
   "metadata": {},
   "outputs": [],
   "source": [
    "df[\"sentiment\"] = df[\"sentiment_score\"].apply(lambda x: \"POSITIVE\" if x > 0.5 else \"NEGATIVE\")"
   ]
  },
  {
   "cell_type": "code",
   "execution_count": 173,
   "id": "cf6eee04-df9d-4962-bcdb-5a0351162f27",
   "metadata": {
    "scrolled": true
   },
   "outputs": [
    {
     "data": {
      "text/html": [
       "<div>\n",
       "<style scoped>\n",
       "    .dataframe tbody tr th:only-of-type {\n",
       "        vertical-align: middle;\n",
       "    }\n",
       "\n",
       "    .dataframe tbody tr th {\n",
       "        vertical-align: top;\n",
       "    }\n",
       "\n",
       "    .dataframe thead th {\n",
       "        text-align: right;\n",
       "    }\n",
       "</style>\n",
       "<table border=\"1\" class=\"dataframe\">\n",
       "  <thead>\n",
       "    <tr style=\"text-align: right;\">\n",
       "      <th></th>\n",
       "      <th>id</th>\n",
       "      <th>tweet_text</th>\n",
       "      <th>tweet_date</th>\n",
       "      <th>nbr_characters</th>\n",
       "      <th>nbr_retweets</th>\n",
       "      <th>nbr_likes</th>\n",
       "      <th>author</th>\n",
       "      <th>sentiment_score</th>\n",
       "      <th>sentiment</th>\n",
       "    </tr>\n",
       "  </thead>\n",
       "  <tbody>\n",
       "    <tr>\n",
       "      <th>0</th>\n",
       "      <td>1</td>\n",
       "      <td>Après la LNFP, c'est au la Botola Pro INWI qu...</td>\n",
       "      <td>2024-11-09 22:07:54</td>\n",
       "      <td>115</td>\n",
       "      <td>0</td>\n",
       "      <td>8</td>\n",
       "      <td>BotolaNews</td>\n",
       "      <td>0.5</td>\n",
       "      <td>NEGATIVE</td>\n",
       "    </tr>\n",
       "    <tr>\n",
       "      <th>1</th>\n",
       "      <td>2</td>\n",
       "      <td>Official Botola Pro Inwi page will follow soon</td>\n",
       "      <td>2024-11-09 21:38:11</td>\n",
       "      <td>46</td>\n",
       "      <td>3</td>\n",
       "      <td>30</td>\n",
       "      <td>𝗠𝗩𝗡_𝗘𝗡 | 𝗙𝗼𝗼𝘁𝗯𝗮𝗹𝗹 𝗡𝗲𝘄𝘀</td>\n",
       "      <td>0.5</td>\n",
       "      <td>NEGATIVE</td>\n",
       "    </tr>\n",
       "    <tr>\n",
       "      <th>2</th>\n",
       "      <td>3</td>\n",
       "      <td>Je pense très sincèrement que l’absurdité est ...</td>\n",
       "      <td>2024-11-09 10:59:35</td>\n",
       "      <td>224</td>\n",
       "      <td>1</td>\n",
       "      <td>2</td>\n",
       "      <td>from 04 with love</td>\n",
       "      <td>0.5</td>\n",
       "      <td>NEGATIVE</td>\n",
       "    </tr>\n",
       "    <tr>\n",
       "      <th>3</th>\n",
       "      <td>4</td>\n",
       "      <td>Botola Inwi Pro is corrupted \\n@fifacom_fr</td>\n",
       "      <td>2024-11-09 21:50:20</td>\n",
       "      <td>41</td>\n",
       "      <td>0</td>\n",
       "      <td>2</td>\n",
       "      <td>🅜🅞🅝🅒🅔🅕</td>\n",
       "      <td>0.5</td>\n",
       "      <td>NEGATIVE</td>\n",
       "    </tr>\n",
       "    <tr>\n",
       "      <th>4</th>\n",
       "      <td>5</td>\n",
       "      <td>Programme de la 5eme journée du championnat du...</td>\n",
       "      <td>2024-11-16 08:35:29</td>\n",
       "      <td>189</td>\n",
       "      <td>0</td>\n",
       "      <td>4</td>\n",
       "      <td>Saad M</td>\n",
       "      <td>0.5</td>\n",
       "      <td>NEGATIVE</td>\n",
       "    </tr>\n",
       "  </tbody>\n",
       "</table>\n",
       "</div>"
      ],
      "text/plain": [
       "   id                                         tweet_text           tweet_date  \\\n",
       "0   1   Après la LNFP, c'est au la Botola Pro INWI qu...  2024-11-09 22:07:54   \n",
       "1   2     Official Botola Pro Inwi page will follow soon  2024-11-09 21:38:11   \n",
       "2   3  Je pense très sincèrement que l’absurdité est ...  2024-11-09 10:59:35   \n",
       "3   4         Botola Inwi Pro is corrupted \\n@fifacom_fr  2024-11-09 21:50:20   \n",
       "4   5  Programme de la 5eme journée du championnat du...  2024-11-16 08:35:29   \n",
       "\n",
       "   nbr_characters  nbr_retweets  nbr_likes                  author  \\\n",
       "0             115             0          8              BotolaNews   \n",
       "1              46             3         30  𝗠𝗩𝗡_𝗘𝗡 | 𝗙𝗼𝗼𝘁𝗯𝗮𝗹𝗹 𝗡𝗲𝘄𝘀   \n",
       "2             224             1          2       from 04 with love   \n",
       "3              41             0          2                  🅜🅞🅝🅒🅔🅕   \n",
       "4             189             0          4                  Saad M   \n",
       "\n",
       "   sentiment_score sentiment  \n",
       "0              0.5  NEGATIVE  \n",
       "1              0.5  NEGATIVE  \n",
       "2              0.5  NEGATIVE  \n",
       "3              0.5  NEGATIVE  \n",
       "4              0.5  NEGATIVE  "
      ]
     },
     "execution_count": 173,
     "metadata": {},
     "output_type": "execute_result"
    }
   ],
   "source": [
    "df.head()"
   ]
  },
  {
   "cell_type": "markdown",
   "id": "dc48b2f2-8271-484a-b920-e1ab57fa44d4",
   "metadata": {},
   "source": [
    "#### 1. Sentiment Distribution"
   ]
  },
  {
   "cell_type": "code",
   "execution_count": 179,
   "id": "9455bd35-7f62-4a1a-bf91-10df9d67496d",
   "metadata": {},
   "outputs": [
    {
     "data": {
      "image/png": "[encoded data removed]",
      "text/plain": [
       "<Figure size 1700x500 with 3 Axes>"
      ]
     },
     "metadata": {},
     "output_type": "display_data"
    }
   ],
   "source": [
    "plt.figure(figsize=(17, 5))\n",
    "\n",
    "plt.subplot(1, 3, 1)\n",
    "sns.countplot(data=df, x='sentiment', order=['NEGATIVE', 'POSITIVE'])\n",
    "plt.title('Distribution of Tweet Sentiments')\n",
    "\n",
    "plt.subplot(1, 3, 2)\n",
    "sns.countplot(data=df[0:10], x='sentiment', order=['NEGATIVE', 'POSITIVE'])\n",
    "plt.title('Distribution of Tweet Sentiments INWI')\n",
    "\n",
    "plt.subplot(1, 3, 3)\n",
    "sns.countplot(data=df[10:20], x='sentiment', order=['NEGATIVE', 'POSITIVE'])\n",
    "plt.title('Distribution of Tweet Sentiments MAROC TELECOM')\n",
    "\n",
    "plt.tight_layout()\n",
    "plt.show()"
   ]
  },
  {
   "cell_type": "markdown",
   "id": "1c53e083-1527-4d53-9c2c-78abb5d093ce",
   "metadata": {},
   "source": [
    "#### 2. Engagement vs Sentiment"
   ]
  },
  {
   "cell_type": "code",
   "execution_count": 180,
   "id": "11a0b57b-ce07-457b-b85a-60340b01dc69",
   "metadata": {},
   "outputs": [
    {
     "data": {
      "image/png": "[encoded data removed]",
      "text/plain": [
       "<Figure size 1200x500 with 2 Axes>"
      ]
     },
     "metadata": {},
     "output_type": "display_data"
    }
   ],
   "source": [
    "plt.figure(figsize=(12, 5))\n",
    "\n",
    "plt.subplot(1, 2, 1)\n",
    "sns.barplot(data=df, x='sentiment', y='nbr_likes')\n",
    "plt.title('Likes by Sentiment')\n",
    "plt.xticks(rotation=45)\n",
    "\n",
    "plt.subplot(1, 2, 2)\n",
    "sns.barplot(data=df, x='sentiment', y='nbr_retweets')\n",
    "plt.title('Retweets by Sentiment')\n",
    "plt.xticks(rotation=45)\n",
    "\n",
    "plt.tight_layout()\n",
    "plt.show()"
   ]
  },
  {
   "cell_type": "code",
   "execution_count": 182,
   "id": "93dc1432-0d18-4947-972e-8351dd65d71b",
   "metadata": {},
   "outputs": [
    {
     "name": "stdout",
     "output_type": "stream",
     "text": [
      "\n",
      "Negative Tweets Analysis (VADER):\n",
      "Number of negative tweets: 18\n",
      "\n",
      "Sample negative tweets:\n",
      "                                          tweet_text  sentiment_score\n",
      "0   Après la LNFP, c'est au la Botola Pro INWI qu...              0.5\n",
      "1     Official Botola Pro Inwi page will follow soon              0.5\n",
      "2  Je pense très sincèrement que l’absurdité est ...              0.5\n",
      "3         Botola Inwi Pro is corrupted \\n@fifacom_fr              0.5\n",
      "4  Programme de la 5eme journée du championnat du...              0.5\n"
     ]
    }
   ],
   "source": [
    "# Identify negative tweets (scores <= 0.5)\n",
    "negative_tweets_vader = df[df['sentiment_score'] <= 0.5]\n",
    "print(\"\\nNegative Tweets Analysis (VADER):\")\n",
    "print(f\"Number of negative tweets: {len(negative_tweets_vader)}\")\n",
    "print(\"\\nSample negative tweets:\")\n",
    "print(negative_tweets_vader[['tweet_text', 'sentiment_score']].head())"
   ]
  },
  {
   "cell_type": "code",
   "execution_count": null,
   "id": "b0286772-856b-49b7-ae95-7fa8cf99f22e",
   "metadata": {},
   "outputs": [],
   "source": []
  },
  {
   "cell_type": "markdown",
   "id": "33566307-803e-4257-b174-536792ca615f",
   "metadata": {},
   "source": [
    "## Method 2: LangChain with RoBERTa"
   ]
  },
  {
   "cell_type": "code",
   "execution_count": null,
   "id": "2ae0eb3e-c26e-4255-a3db-d0d3a69881b7",
   "metadata": {},
   "outputs": [],
   "source": []
  },
  {
   "cell_type": "code",
   "execution_count": 44,
   "id": "2a7cdff8-55db-4e66-bd1a-ac0855583481",
   "metadata": {},
   "outputs": [
    {
     "data": {
      "application/vnd.jupyter.widget-view+json": {
       "model_id": "6bc46c7169d2442eb99289eeb540b014",
       "version_major": 2,
       "version_minor": 0
      },
      "text/plain": [
       "config.json:   0%|          | 0.00/747 [00:00<?, ?B/s]"
      ]
     },
     "metadata": {},
     "output_type": "display_data"
    },
    {
     "data": {
      "application/vnd.jupyter.widget-view+json": {
       "model_id": "f0d7cb2013504dde9a0c7227ee0c3f00",
       "version_major": 2,
       "version_minor": 0
      },
      "text/plain": [
       "pytorch_model.bin:   0%|          | 0.00/499M [00:00<?, ?B/s]"
      ]
     },
     "metadata": {},
     "output_type": "display_data"
    },
    {
     "data": {
      "application/vnd.jupyter.widget-view+json": {
       "model_id": "87c28c068e104a31b50649fe7fe7603a",
       "version_major": 2,
       "version_minor": 0
      },
      "text/plain": [
       "vocab.json:   0%|          | 0.00/899k [00:00<?, ?B/s]"
      ]
     },
     "metadata": {},
     "output_type": "display_data"
    },
    {
     "data": {
      "application/vnd.jupyter.widget-view+json": {
       "model_id": "bb6dccb27e1d43409c87771dbd4ccb45",
       "version_major": 2,
       "version_minor": 0
      },
      "text/plain": [
       "merges.txt:   0%|          | 0.00/456k [00:00<?, ?B/s]"
      ]
     },
     "metadata": {},
     "output_type": "display_data"
    },
    {
     "data": {
      "application/vnd.jupyter.widget-view+json": {
       "model_id": "278ae5153de149ea9a13b4ca2e97c496",
       "version_major": 2,
       "version_minor": 0
      },
      "text/plain": [
       "special_tokens_map.json:   0%|          | 0.00/150 [00:00<?, ?B/s]"
      ]
     },
     "metadata": {},
     "output_type": "display_data"
    }
   ],
   "source": [
    "# Initialize RoBERTa sentiment pipeline\n",
    "sentiment_pipeline = pipeline(\n",
    "    \"sentiment-analysis\",\n",
    "    model=\"cardiffnlp/twitter-roberta-base-sentiment\",\n",
    "    tokenizer=\"cardiffnlp/twitter-roberta-base-sentiment\"\n",
    ")"
   ]
  },
  {
   "cell_type": "code",
   "execution_count": 48,
   "id": "3daaa71a-47a2-40fd-9c39-22ba29929363",
   "metadata": {},
   "outputs": [],
   "source": [
    "# Create HuggingFacePipeline\n",
    "hf_pipeline = HuggingFacePipeline(pipeline=sentiment_pipeline)\n",
    "\n",
    "# Create LangChain prompt template\n",
    "prompt = PromptTemplate(\n",
    "    input_variables=[\"tweet_text\"],\n",
    "    template=\"Analyze the sentiment of this tweet: {tweet_text}\"\n",
    ")\n",
    "# Create LangChain chain\n",
    "chain = LLMChain(llm=hf_pipeline, prompt=prompt)"
   ]
  },
  {
   "cell_type": "code",
   "execution_count": 185,
   "id": "d008fd42-f771-439b-a272-928ecfa046c1",
   "metadata": {},
   "outputs": [],
   "source": [
    "# Function to convert RoBERTa output to 0-1 scale\n",
    "def roberta_to_score(label):\n",
    "    if label == 'LABEL_0':  # Negative\n",
    "        return 0.0\n",
    "    elif label == 'LABEL_1':  # Negative\n",
    "        return 0.5\n",
    "    else:  # Positive\n",
    "        return 1.0"
   ]
  },
  {
   "cell_type": "code",
   "execution_count": 187,
   "id": "6c67b0e9-8264-4a4b-8782-bd4e3669817a",
   "metadata": {},
   "outputs": [
    {
     "name": "stdout",
     "output_type": "stream",
     "text": [
      "\n",
      "RoBERTa Sentiment Analysis Results:\n",
      "                                           tweet_text  roberta_sentiment\n",
      "0    Après la LNFP, c'est au la Botola Pro INWI qu...                0.5\n",
      "1      Official Botola Pro Inwi page will follow soon                0.5\n",
      "2   Je pense très sincèrement que l’absurdité est ...                0.5\n",
      "3          Botola Inwi Pro is corrupted \\n@fifacom_fr                0.0\n",
      "4   Programme de la 5eme journée du championnat du...                0.5\n",
      "5   Tous les buts de la 10ème journée de Botola Pr...                0.5\n",
      "6                                        INWI \\nMAROC                0.5\n",
      "7                    Un arbitre de la botola pro inwi                0.5\n",
      "8   A l'aeroport a casa quand la meuf d'inwi elle ...                0.5\n",
      "9            PUTANGINA NIYOWO INWI WENDY!!!/₱:₱8:₱:₱:                0.5\n",
      "10  Pour ceux qui ne realisent pas ce qui est en t...                0.5\n",
      "11  Le Maroc  lance sa marque MoroccoTech pour con...                0.5\n",
      "12  | La stratégie \"Maroc digital 2030\" sera bient...                0.5\n",
      "13  Jusqu’au 30 novembre, profitez de -50% sur vot...                0.5\n",
      "14  Morocco Now shining on the glass tower of Maro...                1.0\n",
      "15  Maroc Télécom lyhrkjdbbkmlklb. Le pire service...                0.5\n",
      "16  — Maroc Télécom est en négociation avec le gou...                0.5\n",
      "17   | Avec l'aide de Maroc Telecom, Nouakchott ré...                0.5\n",
      "18  Comment ça Au Maroc  pour un forfait de 49dh s...                0.5\n",
      "19  Match Maroc-Guinée Equatoriale \\nEnvoyez MAROC...                0.5\n"
     ]
    }
   ],
   "source": [
    "# Analyze sentiment using LangChain\n",
    "roberta_scores = []\n",
    "for tweet in df['tweet_text']:\n",
    "    if pd.isna(tweet):\n",
    "        roberta_scores.append(None)\n",
    "        continue\n",
    "    try:\n",
    "        result = sentiment_pipeline(tweet)[0]\n",
    "        score = roberta_to_score(result['label'])\n",
    "        roberta_scores.append(score)\n",
    "    except:\n",
    "        roberta_scores.append(None)\n",
    "\n",
    "df['roberta_sentiment'] = roberta_scores\n",
    "print(\"\\nRoBERTa Sentiment Analysis Results:\")\n",
    "print(df[['tweet_text', 'roberta_sentiment']])"
   ]
  },
  {
   "cell_type": "code",
   "execution_count": 193,
   "id": "2a7a70e4-3e96-41c9-b730-5af69cb1aa32",
   "metadata": {},
   "outputs": [],
   "source": [
    "df[\"sentiment2\"] = df[\"roberta_sentiment\"].apply(lambda x: \"POSITIVE\" if x > 0.5 else \"NEGATIVE\")"
   ]
  },
  {
   "cell_type": "code",
   "execution_count": 231,
   "id": "25e846b6-8d05-417e-90d0-48d56c3bfa68",
   "metadata": {},
   "outputs": [
    {
     "name": "stdout",
     "output_type": "stream",
     "text": [
      "\n",
      "RoBERTa Sentiment Analysis Results:\n",
      "                                          tweet_text  roberta_sentiment\n",
      "0   Après la LNFP, c'est au la Botola Pro INWI qu...                0.5\n",
      "1     Official Botola Pro Inwi page will follow soon                0.5\n",
      "2  Je pense très sincèrement que l’absurdité est ...                0.5\n",
      "3         Botola Inwi Pro is corrupted \\n@fifacom_fr                0.0\n",
      "4  Programme de la 5eme journée du championnat du...                0.5\n",
      "\n",
      "Negative Tweets Analysis (RoBERTa):\n",
      "Number of negative tweets: 19\n"
     ]
    }
   ],
   "source": [
    "print(\"\\nRoBERTa Sentiment Analysis Results:\")\n",
    "print(df[['tweet_text', 'roberta_sentiment']].head())\n",
    "\n",
    "# Identify negative tweets (scores <= 0.5)\n",
    "negative_tweets_roberta = df[df['roberta_sentiment'] <= 0.5]\n",
    "print(\"\\nNegative Tweets Analysis (RoBERTa):\")\n",
    "print(f\"Number of negative tweets: {len(negative_tweets_roberta)}\")"
   ]
  },
  {
   "cell_type": "code",
   "execution_count": 232,
   "id": "5fad58f8-75d4-42cd-a061-7eeb0f147867",
   "metadata": {},
   "outputs": [
    {
     "name": "stdout",
     "output_type": "stream",
     "text": [
      "                                           tweet_text  roberta_sentiment\n",
      "0    Après la LNFP, c'est au la Botola Pro INWI qu...                0.5\n",
      "1      Official Botola Pro Inwi page will follow soon                0.5\n",
      "2   Je pense très sincèrement que l’absurdité est ...                0.5\n",
      "3          Botola Inwi Pro is corrupted \\n@fifacom_fr                0.0\n",
      "4   Programme de la 5eme journée du championnat du...                0.5\n",
      "5   Tous les buts de la 10ème journée de Botola Pr...                0.5\n",
      "6                                        INWI \\nMAROC                0.5\n",
      "7                    Un arbitre de la botola pro inwi                0.5\n",
      "8   A l'aeroport a casa quand la meuf d'inwi elle ...                0.5\n",
      "9            PUTANGINA NIYOWO INWI WENDY!!!/₱:₱8:₱:₱:                0.5\n",
      "10  Pour ceux qui ne realisent pas ce qui est en t...                0.5\n",
      "11  Le Maroc  lance sa marque MoroccoTech pour con...                0.5\n",
      "12  | La stratégie \"Maroc digital 2030\" sera bient...                0.5\n",
      "13  Jusqu’au 30 novembre, profitez de -50% sur vot...                0.5\n",
      "15  Maroc Télécom lyhrkjdbbkmlklb. Le pire service...                0.5\n",
      "16  — Maroc Télécom est en négociation avec le gou...                0.5\n",
      "17   | Avec l'aide de Maroc Telecom, Nouakchott ré...                0.5\n",
      "18  Comment ça Au Maroc  pour un forfait de 49dh s...                0.5\n",
      "19  Match Maroc-Guinée Equatoriale \\nEnvoyez MAROC...                0.5\n"
     ]
    }
   ],
   "source": [
    "print(negative_tweets_roberta[['tweet_text', 'roberta_sentiment']])"
   ]
  },
  {
   "cell_type": "code",
   "execution_count": 233,
   "id": "36400075-20ac-4360-aad7-cce93d0adced",
   "metadata": {
    "scrolled": true
   },
   "outputs": [
    {
     "data": {
      "text/html": [
       "<div>\n",
       "<style scoped>\n",
       "    .dataframe tbody tr th:only-of-type {\n",
       "        vertical-align: middle;\n",
       "    }\n",
       "\n",
       "    .dataframe tbody tr th {\n",
       "        vertical-align: top;\n",
       "    }\n",
       "\n",
       "    .dataframe thead th {\n",
       "        text-align: right;\n",
       "    }\n",
       "</style>\n",
       "<table border=\"1\" class=\"dataframe\">\n",
       "  <thead>\n",
       "    <tr style=\"text-align: right;\">\n",
       "      <th></th>\n",
       "      <th>id</th>\n",
       "      <th>tweet_text</th>\n",
       "      <th>tweet_date</th>\n",
       "      <th>nbr_characters</th>\n",
       "      <th>nbr_retweets</th>\n",
       "      <th>nbr_likes</th>\n",
       "      <th>author</th>\n",
       "      <th>sentiment_score</th>\n",
       "      <th>sentiment</th>\n",
       "      <th>roberta_sentiment</th>\n",
       "      <th>sentiment2</th>\n",
       "    </tr>\n",
       "  </thead>\n",
       "  <tbody>\n",
       "    <tr>\n",
       "      <th>0</th>\n",
       "      <td>1</td>\n",
       "      <td>Après la LNFP, c'est au la Botola Pro INWI qu...</td>\n",
       "      <td>2024-11-09 22:07:54</td>\n",
       "      <td>115</td>\n",
       "      <td>0</td>\n",
       "      <td>8</td>\n",
       "      <td>BotolaNews</td>\n",
       "      <td>0.50000</td>\n",
       "      <td>NEGATIVE</td>\n",
       "      <td>0.5</td>\n",
       "      <td>NEGATIVE</td>\n",
       "    </tr>\n",
       "    <tr>\n",
       "      <th>1</th>\n",
       "      <td>2</td>\n",
       "      <td>Official Botola Pro Inwi page will follow soon</td>\n",
       "      <td>2024-11-09 21:38:11</td>\n",
       "      <td>46</td>\n",
       "      <td>3</td>\n",
       "      <td>30</td>\n",
       "      <td>𝗠𝗩𝗡_𝗘𝗡 | 𝗙𝗼𝗼𝘁𝗯𝗮𝗹𝗹 𝗡𝗲𝘄𝘀</td>\n",
       "      <td>0.50000</td>\n",
       "      <td>NEGATIVE</td>\n",
       "      <td>0.5</td>\n",
       "      <td>NEGATIVE</td>\n",
       "    </tr>\n",
       "    <tr>\n",
       "      <th>2</th>\n",
       "      <td>3</td>\n",
       "      <td>Je pense très sincèrement que l’absurdité est ...</td>\n",
       "      <td>2024-11-09 10:59:35</td>\n",
       "      <td>224</td>\n",
       "      <td>1</td>\n",
       "      <td>2</td>\n",
       "      <td>from 04 with love</td>\n",
       "      <td>0.50000</td>\n",
       "      <td>NEGATIVE</td>\n",
       "      <td>0.5</td>\n",
       "      <td>NEGATIVE</td>\n",
       "    </tr>\n",
       "    <tr>\n",
       "      <th>3</th>\n",
       "      <td>4</td>\n",
       "      <td>Botola Inwi Pro is corrupted \\n@fifacom_fr</td>\n",
       "      <td>2024-11-09 21:50:20</td>\n",
       "      <td>41</td>\n",
       "      <td>0</td>\n",
       "      <td>2</td>\n",
       "      <td>🅜🅞🅝🅒🅔🅕</td>\n",
       "      <td>0.50000</td>\n",
       "      <td>NEGATIVE</td>\n",
       "      <td>0.0</td>\n",
       "      <td>NEGATIVE</td>\n",
       "    </tr>\n",
       "    <tr>\n",
       "      <th>4</th>\n",
       "      <td>5</td>\n",
       "      <td>Programme de la 5eme journée du championnat du...</td>\n",
       "      <td>2024-11-16 08:35:29</td>\n",
       "      <td>189</td>\n",
       "      <td>0</td>\n",
       "      <td>4</td>\n",
       "      <td>Saad M</td>\n",
       "      <td>0.50000</td>\n",
       "      <td>NEGATIVE</td>\n",
       "      <td>0.5</td>\n",
       "      <td>NEGATIVE</td>\n",
       "    </tr>\n",
       "    <tr>\n",
       "      <th>5</th>\n",
       "      <td>6</td>\n",
       "      <td>Tous les buts de la 10ème journée de Botola Pr...</td>\n",
       "      <td>2024-11-10 19:25:57</td>\n",
       "      <td>54</td>\n",
       "      <td>0</td>\n",
       "      <td>6</td>\n",
       "      <td>BotolaNews</td>\n",
       "      <td>0.50000</td>\n",
       "      <td>NEGATIVE</td>\n",
       "      <td>0.5</td>\n",
       "      <td>NEGATIVE</td>\n",
       "    </tr>\n",
       "    <tr>\n",
       "      <th>6</th>\n",
       "      <td>7</td>\n",
       "      <td>INWI \\nMAROC</td>\n",
       "      <td>2024-11-16 20:08:43</td>\n",
       "      <td>11</td>\n",
       "      <td>0</td>\n",
       "      <td>0</td>\n",
       "      <td>Zaque bébé influenceur</td>\n",
       "      <td>0.50000</td>\n",
       "      <td>NEGATIVE</td>\n",
       "      <td>0.5</td>\n",
       "      <td>NEGATIVE</td>\n",
       "    </tr>\n",
       "    <tr>\n",
       "      <th>7</th>\n",
       "      <td>8</td>\n",
       "      <td>Un arbitre de la botola pro inwi</td>\n",
       "      <td>2024-11-16 22:38:53</td>\n",
       "      <td>32</td>\n",
       "      <td>0</td>\n",
       "      <td>0</td>\n",
       "      <td>Fc Recul</td>\n",
       "      <td>0.50000</td>\n",
       "      <td>NEGATIVE</td>\n",
       "      <td>0.5</td>\n",
       "      <td>NEGATIVE</td>\n",
       "    </tr>\n",
       "    <tr>\n",
       "      <th>8</th>\n",
       "      <td>9</td>\n",
       "      <td>A l'aeroport a casa quand la meuf d'inwi elle ...</td>\n",
       "      <td>2024-11-13 22:42:05</td>\n",
       "      <td>110</td>\n",
       "      <td>13</td>\n",
       "      <td>100</td>\n",
       "      <td>am</td>\n",
       "      <td>0.50000</td>\n",
       "      <td>NEGATIVE</td>\n",
       "      <td>0.5</td>\n",
       "      <td>NEGATIVE</td>\n",
       "    </tr>\n",
       "    <tr>\n",
       "      <th>9</th>\n",
       "      <td>10</td>\n",
       "      <td>PUTANGINA NIYOWO INWI WENDY!!!/₱:₱8:₱:₱:</td>\n",
       "      <td>2024-11-17 08:36:29</td>\n",
       "      <td>40</td>\n",
       "      <td>0</td>\n",
       "      <td>0</td>\n",
       "      <td>bey ◡̈</td>\n",
       "      <td>0.50000</td>\n",
       "      <td>NEGATIVE</td>\n",
       "      <td>0.5</td>\n",
       "      <td>NEGATIVE</td>\n",
       "    </tr>\n",
       "    <tr>\n",
       "      <th>10</th>\n",
       "      <td>11</td>\n",
       "      <td>Pour ceux qui ne realisent pas ce qui est en t...</td>\n",
       "      <td>2024-10-30 20:33:21</td>\n",
       "      <td>270</td>\n",
       "      <td>1355</td>\n",
       "      <td>4930</td>\n",
       "      <td>Jaf</td>\n",
       "      <td>0.50000</td>\n",
       "      <td>NEGATIVE</td>\n",
       "      <td>0.5</td>\n",
       "      <td>NEGATIVE</td>\n",
       "    </tr>\n",
       "    <tr>\n",
       "      <th>11</th>\n",
       "      <td>12</td>\n",
       "      <td>Le Maroc  lance sa marque MoroccoTech pour con...</td>\n",
       "      <td>2022-01-17 20:50:59</td>\n",
       "      <td>126</td>\n",
       "      <td>105</td>\n",
       "      <td>480</td>\n",
       "      <td>MM ۞</td>\n",
       "      <td>0.50000</td>\n",
       "      <td>NEGATIVE</td>\n",
       "      <td>0.5</td>\n",
       "      <td>NEGATIVE</td>\n",
       "    </tr>\n",
       "    <tr>\n",
       "      <th>12</th>\n",
       "      <td>13</td>\n",
       "      <td>| La stratégie \"Maroc digital 2030\" sera bient...</td>\n",
       "      <td>2023-10-31 10:37:48</td>\n",
       "      <td>276</td>\n",
       "      <td>92</td>\n",
       "      <td>480</td>\n",
       "      <td>Morocco Intelligence</td>\n",
       "      <td>0.60115</td>\n",
       "      <td>POSITIVE</td>\n",
       "      <td>0.5</td>\n",
       "      <td>NEGATIVE</td>\n",
       "    </tr>\n",
       "    <tr>\n",
       "      <th>13</th>\n",
       "      <td>14</td>\n",
       "      <td>Jusqu’au 30 novembre, profitez de -50% sur vot...</td>\n",
       "      <td>2018-11-14 11:16:33</td>\n",
       "      <td>119</td>\n",
       "      <td>18</td>\n",
       "      <td>230</td>\n",
       "      <td>Maroc Telecom</td>\n",
       "      <td>0.50000</td>\n",
       "      <td>NEGATIVE</td>\n",
       "      <td>0.5</td>\n",
       "      <td>NEGATIVE</td>\n",
       "    </tr>\n",
       "    <tr>\n",
       "      <th>14</th>\n",
       "      <td>15</td>\n",
       "      <td>Morocco Now shining on the glass tower of Maro...</td>\n",
       "      <td>2021-10-13 22:02:08</td>\n",
       "      <td>119</td>\n",
       "      <td>41</td>\n",
       "      <td>325</td>\n",
       "      <td>Morocco Now</td>\n",
       "      <td>0.81845</td>\n",
       "      <td>POSITIVE</td>\n",
       "      <td>1.0</td>\n",
       "      <td>POSITIVE</td>\n",
       "    </tr>\n",
       "    <tr>\n",
       "      <th>15</th>\n",
       "      <td>16</td>\n",
       "      <td>Maroc Télécom lyhrkjdbbkmlklb. Le pire service...</td>\n",
       "      <td>2022-04-26 16:24:40</td>\n",
       "      <td>244</td>\n",
       "      <td>15</td>\n",
       "      <td>192</td>\n",
       "      <td>Amine Rahmouni</td>\n",
       "      <td>0.50000</td>\n",
       "      <td>NEGATIVE</td>\n",
       "      <td>0.5</td>\n",
       "      <td>NEGATIVE</td>\n",
       "    </tr>\n",
       "    <tr>\n",
       "      <th>16</th>\n",
       "      <td>17</td>\n",
       "      <td>— Maroc Télécom est en négociation avec le gou...</td>\n",
       "      <td>2022-08-10 16:26:35</td>\n",
       "      <td>199</td>\n",
       "      <td>44</td>\n",
       "      <td>331</td>\n",
       "      <td>MM ۞</td>\n",
       "      <td>0.50000</td>\n",
       "      <td>NEGATIVE</td>\n",
       "      <td>0.5</td>\n",
       "      <td>NEGATIVE</td>\n",
       "    </tr>\n",
       "    <tr>\n",
       "      <th>17</th>\n",
       "      <td>18</td>\n",
       "      <td>| Avec l'aide de Maroc Telecom, Nouakchott ré...</td>\n",
       "      <td>2022-08-08 07:39:03</td>\n",
       "      <td>238</td>\n",
       "      <td>34</td>\n",
       "      <td>216</td>\n",
       "      <td>Morocco Intelligence</td>\n",
       "      <td>0.50000</td>\n",
       "      <td>NEGATIVE</td>\n",
       "      <td>0.5</td>\n",
       "      <td>NEGATIVE</td>\n",
       "    </tr>\n",
       "    <tr>\n",
       "      <th>18</th>\n",
       "      <td>19</td>\n",
       "      <td>Comment ça Au Maroc  pour un forfait de 49dh s...</td>\n",
       "      <td>2024-05-17 23:01:24</td>\n",
       "      <td>178</td>\n",
       "      <td>152</td>\n",
       "      <td>299</td>\n",
       "      <td>.ᗩ.ᗰ.ᗪ.</td>\n",
       "      <td>0.50000</td>\n",
       "      <td>NEGATIVE</td>\n",
       "      <td>0.5</td>\n",
       "      <td>NEGATIVE</td>\n",
       "    </tr>\n",
       "    <tr>\n",
       "      <th>19</th>\n",
       "      <td>20</td>\n",
       "      <td>Match Maroc-Guinée Equatoriale \\nEnvoyez MAROC...</td>\n",
       "      <td>2015-10-19 19:30:18</td>\n",
       "      <td>109</td>\n",
       "      <td>32</td>\n",
       "      <td>215</td>\n",
       "      <td>Maroc Telecom</td>\n",
       "      <td>0.50000</td>\n",
       "      <td>NEGATIVE</td>\n",
       "      <td>0.5</td>\n",
       "      <td>NEGATIVE</td>\n",
       "    </tr>\n",
       "  </tbody>\n",
       "</table>\n",
       "</div>"
      ],
      "text/plain": [
       "    id                                         tweet_text  \\\n",
       "0    1   Après la LNFP, c'est au la Botola Pro INWI qu...   \n",
       "1    2     Official Botola Pro Inwi page will follow soon   \n",
       "2    3  Je pense très sincèrement que l’absurdité est ...   \n",
       "3    4         Botola Inwi Pro is corrupted \\n@fifacom_fr   \n",
       "4    5  Programme de la 5eme journée du championnat du...   \n",
       "5    6  Tous les buts de la 10ème journée de Botola Pr...   \n",
       "6    7                                       INWI \\nMAROC   \n",
       "7    8                   Un arbitre de la botola pro inwi   \n",
       "8    9  A l'aeroport a casa quand la meuf d'inwi elle ...   \n",
       "9   10           PUTANGINA NIYOWO INWI WENDY!!!/₱:₱8:₱:₱:   \n",
       "10  11  Pour ceux qui ne realisent pas ce qui est en t...   \n",
       "11  12  Le Maroc  lance sa marque MoroccoTech pour con...   \n",
       "12  13  | La stratégie \"Maroc digital 2030\" sera bient...   \n",
       "13  14  Jusqu’au 30 novembre, profitez de -50% sur vot...   \n",
       "14  15  Morocco Now shining on the glass tower of Maro...   \n",
       "15  16  Maroc Télécom lyhrkjdbbkmlklb. Le pire service...   \n",
       "16  17  — Maroc Télécom est en négociation avec le gou...   \n",
       "17  18   | Avec l'aide de Maroc Telecom, Nouakchott ré...   \n",
       "18  19  Comment ça Au Maroc  pour un forfait de 49dh s...   \n",
       "19  20  Match Maroc-Guinée Equatoriale \\nEnvoyez MAROC...   \n",
       "\n",
       "             tweet_date  nbr_characters  nbr_retweets  nbr_likes  \\\n",
       "0   2024-11-09 22:07:54             115             0          8   \n",
       "1   2024-11-09 21:38:11              46             3         30   \n",
       "2   2024-11-09 10:59:35             224             1          2   \n",
       "3   2024-11-09 21:50:20              41             0          2   \n",
       "4   2024-11-16 08:35:29             189             0          4   \n",
       "5   2024-11-10 19:25:57              54             0          6   \n",
       "6   2024-11-16 20:08:43              11             0          0   \n",
       "7   2024-11-16 22:38:53              32             0          0   \n",
       "8   2024-11-13 22:42:05             110            13        100   \n",
       "9   2024-11-17 08:36:29              40             0          0   \n",
       "10  2024-10-30 20:33:21             270          1355       4930   \n",
       "11  2022-01-17 20:50:59             126           105        480   \n",
       "12  2023-10-31 10:37:48             276            92        480   \n",
       "13  2018-11-14 11:16:33             119            18        230   \n",
       "14  2021-10-13 22:02:08             119            41        325   \n",
       "15  2022-04-26 16:24:40             244            15        192   \n",
       "16  2022-08-10 16:26:35             199            44        331   \n",
       "17  2022-08-08 07:39:03             238            34        216   \n",
       "18  2024-05-17 23:01:24             178           152        299   \n",
       "19  2015-10-19 19:30:18             109            32        215   \n",
       "\n",
       "                    author  sentiment_score sentiment  roberta_sentiment  \\\n",
       "0               BotolaNews          0.50000  NEGATIVE                0.5   \n",
       "1   𝗠𝗩𝗡_𝗘𝗡 | 𝗙𝗼𝗼𝘁𝗯𝗮𝗹𝗹 𝗡𝗲𝘄𝘀          0.50000  NEGATIVE                0.5   \n",
       "2        from 04 with love          0.50000  NEGATIVE                0.5   \n",
       "3                   🅜🅞🅝🅒🅔🅕          0.50000  NEGATIVE                0.0   \n",
       "4                   Saad M          0.50000  NEGATIVE                0.5   \n",
       "5               BotolaNews          0.50000  NEGATIVE                0.5   \n",
       "6   Zaque bébé influenceur          0.50000  NEGATIVE                0.5   \n",
       "7                 Fc Recul          0.50000  NEGATIVE                0.5   \n",
       "8                       am          0.50000  NEGATIVE                0.5   \n",
       "9                   bey ◡̈          0.50000  NEGATIVE                0.5   \n",
       "10                     Jaf          0.50000  NEGATIVE                0.5   \n",
       "11                    MM ۞          0.50000  NEGATIVE                0.5   \n",
       "12    Morocco Intelligence          0.60115  POSITIVE                0.5   \n",
       "13           Maroc Telecom          0.50000  NEGATIVE                0.5   \n",
       "14             Morocco Now          0.81845  POSITIVE                1.0   \n",
       "15          Amine Rahmouni          0.50000  NEGATIVE                0.5   \n",
       "16                    MM ۞          0.50000  NEGATIVE                0.5   \n",
       "17    Morocco Intelligence          0.50000  NEGATIVE                0.5   \n",
       "18                 .ᗩ.ᗰ.ᗪ.          0.50000  NEGATIVE                0.5   \n",
       "19           Maroc Telecom          0.50000  NEGATIVE                0.5   \n",
       "\n",
       "   sentiment2  \n",
       "0    NEGATIVE  \n",
       "1    NEGATIVE  \n",
       "2    NEGATIVE  \n",
       "3    NEGATIVE  \n",
       "4    NEGATIVE  \n",
       "5    NEGATIVE  \n",
       "6    NEGATIVE  \n",
       "7    NEGATIVE  \n",
       "8    NEGATIVE  \n",
       "9    NEGATIVE  \n",
       "10   NEGATIVE  \n",
       "11   NEGATIVE  \n",
       "12   NEGATIVE  \n",
       "13   NEGATIVE  \n",
       "14   POSITIVE  \n",
       "15   NEGATIVE  \n",
       "16   NEGATIVE  \n",
       "17   NEGATIVE  \n",
       "18   NEGATIVE  \n",
       "19   NEGATIVE  "
      ]
     },
     "execution_count": 233,
     "metadata": {},
     "output_type": "execute_result"
    }
   ],
   "source": [
    "df"
   ]
  },
  {
   "cell_type": "code",
   "execution_count": 234,
   "id": "da0eacaa-245d-4d56-b276-6f0aa00245b7",
   "metadata": {},
   "outputs": [
    {
     "data": {
      "image/png": "[encoded data removed]",
      "text/plain": [
       "<Figure size 800x400 with 2 Axes>"
      ]
     },
     "metadata": {},
     "output_type": "display_data"
    }
   ],
   "source": [
    "plt.figure(figsize=(8, 4))\n",
    "\n",
    "# Plot Sentiment Distribution for RoBERTa (subplot 1)\n",
    "plt.subplot(1, 2, 1)\n",
    "sns.countplot(data=df, x='sentiment2', order=[\"POSITIVE\", \"NEGATIVE\"], palette=\"viridis\")\n",
    "plt.title(\"Count of RoBERTa Sentiments\")\n",
    "plt.xlabel(\"Sentiment\")\n",
    "plt.ylabel(\"Count\")\n",
    "\n",
    "# Plot Sentiment Distribution for VADER (subplot 2)\n",
    "plt.subplot(1, 2, 2)\n",
    "sns.countplot(data=df, x='sentiment', order=[\"POSITIVE\", \"NEGATIVE\"], palette=\"viridis\")\n",
    "plt.title(\"Count of VADER Sentiments\")\n",
    "plt.xlabel(\"Sentiment\")\n",
    "plt.ylabel(\"Count\")\n",
    "\n",
    "# Show the plots\n",
    "plt.tight_layout()\n",
    "plt.show()"
   ]
  },
  {
   "cell_type": "markdown",
   "id": "6a24507a-e2ac-46aa-89a9-cb8ab4b2225a",
   "metadata": {},
   "source": [
    "## Methode3: BERT sentiment analysis"
   ]
  },
  {
   "cell_type": "code",
   "execution_count": 235,
   "id": "ab3c8f9b-b06d-42bf-b6f1-30a06061a0f0",
   "metadata": {},
   "outputs": [],
   "source": [
    "from transformers import pipeline, AutoTokenizer, AutoModelForSequenceClassification"
   ]
  },
  {
   "cell_type": "markdown",
   "id": "d1f68b25-ead6-4b2e-a874-f77efb12551d",
   "metadata": {},
   "source": [
    "#### using a model capable of handling multilingual text and provides scores from 1 to 5"
   ]
  },
  {
   "cell_type": "code",
   "execution_count": 236,
   "id": "a2ba75d1-35db-482d-88f3-6cbc75b33faa",
   "metadata": {},
   "outputs": [],
   "source": [
    "def setup_sentiment_analyzer():\n",
    "    \"\"\"Set up the sentiment analysis pipeline using a free model.\"\"\"\n",
    "    # Using \"nlptown/bert-base-multilingual-uncased-sentiment\" which supports multiple languages\n",
    "    # This model gives scores from 1 to 5, where 1 is very negative and 5 is very positive\n",
    "    model_name = \"nlptown/bert-base-multilingual-uncased-sentiment\"\n",
    "    \n",
    "    try:\n",
    "        sentiment_analyzer = pipeline(\n",
    "            \"sentiment-analysis\",\n",
    "            model=model_name,\n",
    "            tokenizer=model_name)\n",
    "        return sentiment_analyzer\n",
    "    except Exception as e:\n",
    "        print(f\"Error loading model: {str(e)}\")\n",
    "        return None"
   ]
  },
  {
   "cell_type": "markdown",
   "id": "fbca4a3a-3d11-4c02-8c13-05da0b5b9173",
   "metadata": {},
   "source": [
    "#### map score to POSITIVE, NEGATIVE"
   ]
  },
  {
   "cell_type": "code",
   "execution_count": 237,
   "id": "ad459c37-be2c-4f8d-95bb-e9f047f536e2",
   "metadata": {},
   "outputs": [],
   "source": [
    "def map_score_to_sentiment(score):\n",
    "    \"\"\"Map the 1-5 score to POSITIVE/NEGATIVE/NEUTRAL.\"\"\"\n",
    "    if score >= 4.5:\n",
    "        return \"POSITIVE\"\n",
    "    elif score < 4.5:\n",
    "        return \"NEGATIVE\""
   ]
  },
  {
   "cell_type": "markdown",
   "id": "2a736ed5-d50c-457d-8271-f663e1016f2e",
   "metadata": {},
   "source": [
    "#### function to analyze sentiment using SentimentAnalyzer"
   ]
  },
  {
   "cell_type": "code",
   "execution_count": 238,
   "id": "ca8a141b-f68c-4810-a69a-c43b387cacb9",
   "metadata": {},
   "outputs": [],
   "source": [
    "def analyze_sentiment_batch(tweets_df, sentiment_analyzer):\n",
    "    \"\"\"Analyze sentiment for a batch of tweets.\"\"\"\n",
    "    results = []\n",
    "    \n",
    "    for _, row in tweets_df.iterrows():\n",
    "        try:\n",
    "            # The model has a max token limit, so we'll truncate long tweets\n",
    "            tweet_text = row['tweet_text'][:512]  # Truncate to safe length\n",
    "            \n",
    "            # Get sentiment prediction\n",
    "            sentiment_result = sentiment_analyzer(tweet_text)[0]\n",
    "            # Convert the 1-5 score to our desired format\n",
    "            score = int(sentiment_result['label'][0])  # Extract the numeric score\n",
    "            sentiment = map_score_to_sentiment(score)\n",
    "            \n",
    "            results.append({\n",
    "                'tweet_id': row['id'],\n",
    "                'tweet_text': row['tweet_text'],\n",
    "                'date': row['tweet_date'],\n",
    "                'author': row['author'],\n",
    "                'sentiment': sentiment,\n",
    "                'confidence': sentiment_result['score'],\n",
    "                'metrics': {\n",
    "                    'retweets': row['nbr_retweets'],\n",
    "                    'likes': row['nbr_likes']\n",
    "                }\n",
    "            })\n",
    "            \n",
    "        except Exception as e:\n",
    "            print(f\"Error analyzing tweet {row['id']}: {str(e)}\")\n",
    "            results.append({\n",
    "                'tweet_id': row['id'],\n",
    "                'tweet_text': row['tweet_text'],\n",
    "                'sentiment': 'ERROR',\n",
    "                'error': str(e)\n",
    "            })\n",
    "    \n",
    "    return pd.DataFrame(results)"
   ]
  },
  {
   "cell_type": "markdown",
   "id": "3718e811-552c-48d4-aaa5-b2c1debcfe1b",
   "metadata": {},
   "source": [
    "#### analyze our tweets"
   ]
  },
  {
   "cell_type": "code",
   "execution_count": 239,
   "id": "28a40497-57d7-4d39-9a89-e36d848e46dc",
   "metadata": {},
   "outputs": [],
   "source": [
    "df_result = analyze_sentiment_batch(df, setup_sentiment_analyzer())"
   ]
  },
  {
   "cell_type": "code",
   "execution_count": 240,
   "id": "48d06956-cc62-4641-99c5-e8377de89b60",
   "metadata": {},
   "outputs": [
    {
     "data": {
      "text/html": [
       "<div>\n",
       "<style scoped>\n",
       "    .dataframe tbody tr th:only-of-type {\n",
       "        vertical-align: middle;\n",
       "    }\n",
       "\n",
       "    .dataframe tbody tr th {\n",
       "        vertical-align: top;\n",
       "    }\n",
       "\n",
       "    .dataframe thead th {\n",
       "        text-align: right;\n",
       "    }\n",
       "</style>\n",
       "<table border=\"1\" class=\"dataframe\">\n",
       "  <thead>\n",
       "    <tr style=\"text-align: right;\">\n",
       "      <th></th>\n",
       "      <th>tweet_id</th>\n",
       "      <th>tweet_text</th>\n",
       "      <th>date</th>\n",
       "      <th>author</th>\n",
       "      <th>sentiment</th>\n",
       "      <th>confidence</th>\n",
       "      <th>metrics</th>\n",
       "    </tr>\n",
       "  </thead>\n",
       "  <tbody>\n",
       "    <tr>\n",
       "      <th>0</th>\n",
       "      <td>1</td>\n",
       "      <td>Après la LNFP, c'est au la Botola Pro INWI qu...</td>\n",
       "      <td>2024-11-09 22:07:54</td>\n",
       "      <td>BotolaNews</td>\n",
       "      <td>NEGATIVE</td>\n",
       "      <td>0.242876</td>\n",
       "      <td>{'retweets': 0, 'likes': 8}</td>\n",
       "    </tr>\n",
       "    <tr>\n",
       "      <th>1</th>\n",
       "      <td>2</td>\n",
       "      <td>Official Botola Pro Inwi page will follow soon</td>\n",
       "      <td>2024-11-09 21:38:11</td>\n",
       "      <td>𝗠𝗩𝗡_𝗘𝗡 | 𝗙𝗼𝗼𝘁𝗯𝗮𝗹𝗹 𝗡𝗲𝘄𝘀</td>\n",
       "      <td>POSITIVE</td>\n",
       "      <td>0.465766</td>\n",
       "      <td>{'retweets': 3, 'likes': 30}</td>\n",
       "    </tr>\n",
       "    <tr>\n",
       "      <th>2</th>\n",
       "      <td>3</td>\n",
       "      <td>Je pense très sincèrement que l’absurdité est ...</td>\n",
       "      <td>2024-11-09 10:59:35</td>\n",
       "      <td>from 04 with love</td>\n",
       "      <td>NEGATIVE</td>\n",
       "      <td>0.574516</td>\n",
       "      <td>{'retweets': 1, 'likes': 2}</td>\n",
       "    </tr>\n",
       "    <tr>\n",
       "      <th>3</th>\n",
       "      <td>4</td>\n",
       "      <td>Botola Inwi Pro is corrupted \\n@fifacom_fr</td>\n",
       "      <td>2024-11-09 21:50:20</td>\n",
       "      <td>🅜🅞🅝🅒🅔🅕</td>\n",
       "      <td>NEGATIVE</td>\n",
       "      <td>0.487633</td>\n",
       "      <td>{'retweets': 0, 'likes': 2}</td>\n",
       "    </tr>\n",
       "    <tr>\n",
       "      <th>4</th>\n",
       "      <td>5</td>\n",
       "      <td>Programme de la 5eme journée du championnat du...</td>\n",
       "      <td>2024-11-16 08:35:29</td>\n",
       "      <td>Saad M</td>\n",
       "      <td>NEGATIVE</td>\n",
       "      <td>0.294675</td>\n",
       "      <td>{'retweets': 0, 'likes': 4}</td>\n",
       "    </tr>\n",
       "    <tr>\n",
       "      <th>5</th>\n",
       "      <td>6</td>\n",
       "      <td>Tous les buts de la 10ème journée de Botola Pr...</td>\n",
       "      <td>2024-11-10 19:25:57</td>\n",
       "      <td>BotolaNews</td>\n",
       "      <td>POSITIVE</td>\n",
       "      <td>0.516519</td>\n",
       "      <td>{'retweets': 0, 'likes': 6}</td>\n",
       "    </tr>\n",
       "    <tr>\n",
       "      <th>6</th>\n",
       "      <td>7</td>\n",
       "      <td>INWI \\nMAROC</td>\n",
       "      <td>2024-11-16 20:08:43</td>\n",
       "      <td>Zaque bébé influenceur</td>\n",
       "      <td>POSITIVE</td>\n",
       "      <td>0.262595</td>\n",
       "      <td>{'retweets': 0, 'likes': 0}</td>\n",
       "    </tr>\n",
       "    <tr>\n",
       "      <th>7</th>\n",
       "      <td>8</td>\n",
       "      <td>Un arbitre de la botola pro inwi</td>\n",
       "      <td>2024-11-16 22:38:53</td>\n",
       "      <td>Fc Recul</td>\n",
       "      <td>POSITIVE</td>\n",
       "      <td>0.256459</td>\n",
       "      <td>{'retweets': 0, 'likes': 0}</td>\n",
       "    </tr>\n",
       "    <tr>\n",
       "      <th>8</th>\n",
       "      <td>9</td>\n",
       "      <td>A l'aeroport a casa quand la meuf d'inwi elle ...</td>\n",
       "      <td>2024-11-13 22:42:05</td>\n",
       "      <td>am</td>\n",
       "      <td>NEGATIVE</td>\n",
       "      <td>0.257792</td>\n",
       "      <td>{'retweets': 13, 'likes': 100}</td>\n",
       "    </tr>\n",
       "    <tr>\n",
       "      <th>9</th>\n",
       "      <td>10</td>\n",
       "      <td>PUTANGINA NIYOWO INWI WENDY!!!/₱:₱8:₱:₱:</td>\n",
       "      <td>2024-11-17 08:36:29</td>\n",
       "      <td>bey ◡̈</td>\n",
       "      <td>NEGATIVE</td>\n",
       "      <td>0.429835</td>\n",
       "      <td>{'retweets': 0, 'likes': 0}</td>\n",
       "    </tr>\n",
       "    <tr>\n",
       "      <th>10</th>\n",
       "      <td>11</td>\n",
       "      <td>Pour ceux qui ne realisent pas ce qui est en t...</td>\n",
       "      <td>2024-10-30 20:33:21</td>\n",
       "      <td>Jaf</td>\n",
       "      <td>NEGATIVE</td>\n",
       "      <td>0.238966</td>\n",
       "      <td>{'retweets': 1355, 'likes': 4930}</td>\n",
       "    </tr>\n",
       "    <tr>\n",
       "      <th>11</th>\n",
       "      <td>12</td>\n",
       "      <td>Le Maroc  lance sa marque MoroccoTech pour con...</td>\n",
       "      <td>2022-01-17 20:50:59</td>\n",
       "      <td>MM ۞</td>\n",
       "      <td>POSITIVE</td>\n",
       "      <td>0.425969</td>\n",
       "      <td>{'retweets': 105, 'likes': 480}</td>\n",
       "    </tr>\n",
       "    <tr>\n",
       "      <th>12</th>\n",
       "      <td>13</td>\n",
       "      <td>| La stratégie \"Maroc digital 2030\" sera bient...</td>\n",
       "      <td>2023-10-31 10:37:48</td>\n",
       "      <td>Morocco Intelligence</td>\n",
       "      <td>POSITIVE</td>\n",
       "      <td>0.529200</td>\n",
       "      <td>{'retweets': 92, 'likes': 480}</td>\n",
       "    </tr>\n",
       "    <tr>\n",
       "      <th>13</th>\n",
       "      <td>14</td>\n",
       "      <td>Jusqu’au 30 novembre, profitez de -50% sur vot...</td>\n",
       "      <td>2018-11-14 11:16:33</td>\n",
       "      <td>Maroc Telecom</td>\n",
       "      <td>NEGATIVE</td>\n",
       "      <td>0.424956</td>\n",
       "      <td>{'retweets': 18, 'likes': 230}</td>\n",
       "    </tr>\n",
       "    <tr>\n",
       "      <th>14</th>\n",
       "      <td>15</td>\n",
       "      <td>Morocco Now shining on the glass tower of Maro...</td>\n",
       "      <td>2021-10-13 22:02:08</td>\n",
       "      <td>Morocco Now</td>\n",
       "      <td>POSITIVE</td>\n",
       "      <td>0.649023</td>\n",
       "      <td>{'retweets': 41, 'likes': 325}</td>\n",
       "    </tr>\n",
       "    <tr>\n",
       "      <th>15</th>\n",
       "      <td>16</td>\n",
       "      <td>Maroc Télécom lyhrkjdbbkmlklb. Le pire service...</td>\n",
       "      <td>2022-04-26 16:24:40</td>\n",
       "      <td>Amine Rahmouni</td>\n",
       "      <td>NEGATIVE</td>\n",
       "      <td>0.978616</td>\n",
       "      <td>{'retweets': 15, 'likes': 192}</td>\n",
       "    </tr>\n",
       "    <tr>\n",
       "      <th>16</th>\n",
       "      <td>17</td>\n",
       "      <td>— Maroc Télécom est en négociation avec le gou...</td>\n",
       "      <td>2022-08-10 16:26:35</td>\n",
       "      <td>MM ۞</td>\n",
       "      <td>NEGATIVE</td>\n",
       "      <td>0.328059</td>\n",
       "      <td>{'retweets': 44, 'likes': 331}</td>\n",
       "    </tr>\n",
       "    <tr>\n",
       "      <th>17</th>\n",
       "      <td>18</td>\n",
       "      <td>| Avec l'aide de Maroc Telecom, Nouakchott ré...</td>\n",
       "      <td>2022-08-08 07:39:03</td>\n",
       "      <td>Morocco Intelligence</td>\n",
       "      <td>POSITIVE</td>\n",
       "      <td>0.288140</td>\n",
       "      <td>{'retweets': 34, 'likes': 216}</td>\n",
       "    </tr>\n",
       "    <tr>\n",
       "      <th>18</th>\n",
       "      <td>19</td>\n",
       "      <td>Comment ça Au Maroc  pour un forfait de 49dh s...</td>\n",
       "      <td>2024-05-17 23:01:24</td>\n",
       "      <td>.ᗩ.ᗰ.ᗪ.</td>\n",
       "      <td>NEGATIVE</td>\n",
       "      <td>0.580597</td>\n",
       "      <td>{'retweets': 152, 'likes': 299}</td>\n",
       "    </tr>\n",
       "    <tr>\n",
       "      <th>19</th>\n",
       "      <td>20</td>\n",
       "      <td>Match Maroc-Guinée Equatoriale \\nEnvoyez MAROC...</td>\n",
       "      <td>2015-10-19 19:30:18</td>\n",
       "      <td>Maroc Telecom</td>\n",
       "      <td>NEGATIVE</td>\n",
       "      <td>0.289070</td>\n",
       "      <td>{'retweets': 32, 'likes': 215}</td>\n",
       "    </tr>\n",
       "  </tbody>\n",
       "</table>\n",
       "</div>"
      ],
      "text/plain": [
       "    tweet_id                                         tweet_text  \\\n",
       "0          1   Après la LNFP, c'est au la Botola Pro INWI qu...   \n",
       "1          2     Official Botola Pro Inwi page will follow soon   \n",
       "2          3  Je pense très sincèrement que l’absurdité est ...   \n",
       "3          4         Botola Inwi Pro is corrupted \\n@fifacom_fr   \n",
       "4          5  Programme de la 5eme journée du championnat du...   \n",
       "5          6  Tous les buts de la 10ème journée de Botola Pr...   \n",
       "6          7                                       INWI \\nMAROC   \n",
       "7          8                   Un arbitre de la botola pro inwi   \n",
       "8          9  A l'aeroport a casa quand la meuf d'inwi elle ...   \n",
       "9         10           PUTANGINA NIYOWO INWI WENDY!!!/₱:₱8:₱:₱:   \n",
       "10        11  Pour ceux qui ne realisent pas ce qui est en t...   \n",
       "11        12  Le Maroc  lance sa marque MoroccoTech pour con...   \n",
       "12        13  | La stratégie \"Maroc digital 2030\" sera bient...   \n",
       "13        14  Jusqu’au 30 novembre, profitez de -50% sur vot...   \n",
       "14        15  Morocco Now shining on the glass tower of Maro...   \n",
       "15        16  Maroc Télécom lyhrkjdbbkmlklb. Le pire service...   \n",
       "16        17  — Maroc Télécom est en négociation avec le gou...   \n",
       "17        18   | Avec l'aide de Maroc Telecom, Nouakchott ré...   \n",
       "18        19  Comment ça Au Maroc  pour un forfait de 49dh s...   \n",
       "19        20  Match Maroc-Guinée Equatoriale \\nEnvoyez MAROC...   \n",
       "\n",
       "                   date                  author sentiment  confidence  \\\n",
       "0   2024-11-09 22:07:54              BotolaNews  NEGATIVE    0.242876   \n",
       "1   2024-11-09 21:38:11  𝗠𝗩𝗡_𝗘𝗡 | 𝗙𝗼𝗼𝘁𝗯𝗮𝗹𝗹 𝗡𝗲𝘄𝘀  POSITIVE    0.465766   \n",
       "2   2024-11-09 10:59:35       from 04 with love  NEGATIVE    0.574516   \n",
       "3   2024-11-09 21:50:20                  🅜🅞🅝🅒🅔🅕  NEGATIVE    0.487633   \n",
       "4   2024-11-16 08:35:29                  Saad M  NEGATIVE    0.294675   \n",
       "5   2024-11-10 19:25:57              BotolaNews  POSITIVE    0.516519   \n",
       "6   2024-11-16 20:08:43  Zaque bébé influenceur  POSITIVE    0.262595   \n",
       "7   2024-11-16 22:38:53                Fc Recul  POSITIVE    0.256459   \n",
       "8   2024-11-13 22:42:05                      am  NEGATIVE    0.257792   \n",
       "9   2024-11-17 08:36:29                  bey ◡̈  NEGATIVE    0.429835   \n",
       "10  2024-10-30 20:33:21                     Jaf  NEGATIVE    0.238966   \n",
       "11  2022-01-17 20:50:59                    MM ۞  POSITIVE    0.425969   \n",
       "12  2023-10-31 10:37:48    Morocco Intelligence  POSITIVE    0.529200   \n",
       "13  2018-11-14 11:16:33           Maroc Telecom  NEGATIVE    0.424956   \n",
       "14  2021-10-13 22:02:08             Morocco Now  POSITIVE    0.649023   \n",
       "15  2022-04-26 16:24:40          Amine Rahmouni  NEGATIVE    0.978616   \n",
       "16  2022-08-10 16:26:35                    MM ۞  NEGATIVE    0.328059   \n",
       "17  2022-08-08 07:39:03    Morocco Intelligence  POSITIVE    0.288140   \n",
       "18  2024-05-17 23:01:24                 .ᗩ.ᗰ.ᗪ.  NEGATIVE    0.580597   \n",
       "19  2015-10-19 19:30:18           Maroc Telecom  NEGATIVE    0.289070   \n",
       "\n",
       "                              metrics  \n",
       "0         {'retweets': 0, 'likes': 8}  \n",
       "1        {'retweets': 3, 'likes': 30}  \n",
       "2         {'retweets': 1, 'likes': 2}  \n",
       "3         {'retweets': 0, 'likes': 2}  \n",
       "4         {'retweets': 0, 'likes': 4}  \n",
       "5         {'retweets': 0, 'likes': 6}  \n",
       "6         {'retweets': 0, 'likes': 0}  \n",
       "7         {'retweets': 0, 'likes': 0}  \n",
       "8      {'retweets': 13, 'likes': 100}  \n",
       "9         {'retweets': 0, 'likes': 0}  \n",
       "10  {'retweets': 1355, 'likes': 4930}  \n",
       "11    {'retweets': 105, 'likes': 480}  \n",
       "12     {'retweets': 92, 'likes': 480}  \n",
       "13     {'retweets': 18, 'likes': 230}  \n",
       "14     {'retweets': 41, 'likes': 325}  \n",
       "15     {'retweets': 15, 'likes': 192}  \n",
       "16     {'retweets': 44, 'likes': 331}  \n",
       "17     {'retweets': 34, 'likes': 216}  \n",
       "18    {'retweets': 152, 'likes': 299}  \n",
       "19     {'retweets': 32, 'likes': 215}  "
      ]
     },
     "execution_count": 240,
     "metadata": {},
     "output_type": "execute_result"
    }
   ],
   "source": [
    "df_result"
   ]
  },
  {
   "cell_type": "code",
   "execution_count": null,
   "id": "9f94224d-d707-4670-b8ba-4abc17010992",
   "metadata": {},
   "outputs": [],
   "source": []
  },
  {
   "cell_type": "code",
   "execution_count": 241,
   "id": "2b065b56-82a5-4b8e-a5d8-41fad7992a5e",
   "metadata": {},
   "outputs": [
    {
     "name": "stdout",
     "output_type": "stream",
     "text": [
      "sentiment\n",
      "NEGATIVE    12\n",
      "POSITIVE     8\n",
      "Name: count, dtype: int64\n"
     ]
    }
   ],
   "source": [
    "sentiment_counts = df_result['sentiment'].value_counts()\n",
    "print(sentiment_counts)"
   ]
  },
  {
   "cell_type": "code",
   "execution_count": 242,
   "id": "2fc6f3c3-a96b-43e5-8299-ad2286613d06",
   "metadata": {},
   "outputs": [
    {
     "data": {
      "image/png": "[encoded data removed]",
      "text/plain": [
       "<Figure size 1700x500 with 3 Axes>"
      ]
     },
     "metadata": {},
     "output_type": "display_data"
    }
   ],
   "source": [
    "# sentiment_counts.plot(kind='bar', color=['green', 'blue', 'red'], alpha=0.7, edgecolor='black')\n",
    "# plt.title(\"Sentiment Distribution Bert\")\n",
    "# plt.xlabel(\"Sentiment\")\n",
    "# plt.ylabel(\"Count\")\n",
    "# plt.xticks(rotation=0)\n",
    "# plt.grid(axis='y', linestyle='--', alpha=0.6)\n",
    "# plt.tight_layout()\n",
    "# plt.show()\n",
    "plt.figure(figsize=(17, 5))\n",
    "\n",
    "plt.subplot(1, 3, 1)\n",
    "sns.countplot(data=df_result, x='sentiment', order=['NEGATIVE', 'POSITIVE'])\n",
    "plt.title('sentiment distribution Bert')\n",
    "\n",
    "plt.subplot(1, 3, 2)\n",
    "sns.countplot(data=df_result[0:10], x='sentiment', order=['NEGATIVE', 'POSITIVE'])\n",
    "plt.title('sentiment distribution INWI')\n",
    "\n",
    "plt.subplot(1, 3, 3)\n",
    "sns.countplot(data=df_result[10:20], x='sentiment', order=['NEGATIVE', 'POSITIVE'])\n",
    "plt.title('sentiment distribution MAROC TELECOM')\n",
    "\n",
    "plt.tight_layout()\n",
    "plt.show()"
   ]
  },
  {
   "cell_type": "code",
   "execution_count": 259,
   "id": "cf920528-1e05-45ba-b986-ad7181ae5075",
   "metadata": {},
   "outputs": [
    {
     "data": {
      "image/png": "[encoded data removed]",
      "text/plain": [
       "<Figure size 640x480 with 1 Axes>"
      ]
     },
     "metadata": {},
     "output_type": "display_data"
    }
   ],
   "source": [
    "plt.figure()\n",
    "sns.countplot(data=df_result, x='sentiment', order=[\"POSITIVE\", \"NEGATIVE\"], palette=\"viridis\")\n",
    "plt.title(\"Count of Bert sentiment analysis\")\n",
    "plt.xlabel(\"Sentiment\")\n",
    "plt.ylabel(\"Count\")\n",
    "plt.tight_layout()\n",
    "plt.show()"
   ]
  },
  {
   "cell_type": "code",
   "execution_count": 243,
   "id": "d92025c6-d439-44ec-aefe-c087a252ea88",
   "metadata": {},
   "outputs": [
    {
     "name": "stdout",
     "output_type": "stream",
     "text": [
      "sentiment\n",
      "NEGATIVE    6\n",
      "POSITIVE    4\n",
      "Name: count, dtype: int64\n"
     ]
    }
   ],
   "source": [
    "sentiment_counts = df_result['sentiment'][0:10].value_counts()\n",
    "print(sentiment_counts)"
   ]
  },
  {
   "cell_type": "code",
   "execution_count": 257,
   "id": "032506fc-6ff0-4f7c-8ea6-f501362ea858",
   "metadata": {},
   "outputs": [
    {
     "name": "stdout",
     "output_type": "stream",
     "text": [
      "\n",
      "Negative Tweets Analysis (Bert):\n",
      "Number of negative tweets: 12\n",
      "\n",
      "Negative Tweets --- Bert: \n",
      "   tweet_id                                         tweet_text  \\\n",
      "0         1   Après la LNFP, c'est au la Botola Pro INWI qu...   \n",
      "2         3  Je pense très sincèrement que l’absurdité est ...   \n",
      "3         4         Botola Inwi Pro is corrupted \\n@fifacom_fr   \n",
      "4         5  Programme de la 5eme journée du championnat du...   \n",
      "8         9  A l'aeroport a casa quand la meuf d'inwi elle ...   \n",
      "\n",
      "                  date             author sentiment  confidence  \\\n",
      "0  2024-11-09 22:07:54         BotolaNews  NEGATIVE    0.242876   \n",
      "2  2024-11-09 10:59:35  from 04 with love  NEGATIVE    0.574516   \n",
      "3  2024-11-09 21:50:20             🅜🅞🅝🅒🅔🅕  NEGATIVE    0.487633   \n",
      "4  2024-11-16 08:35:29             Saad M  NEGATIVE    0.294675   \n",
      "8  2024-11-13 22:42:05                 am  NEGATIVE    0.257792   \n",
      "\n",
      "                          metrics  \n",
      "0     {'retweets': 0, 'likes': 8}  \n",
      "2     {'retweets': 1, 'likes': 2}  \n",
      "3     {'retweets': 0, 'likes': 2}  \n",
      "4     {'retweets': 0, 'likes': 4}  \n",
      "8  {'retweets': 13, 'likes': 100}  \n"
     ]
    }
   ],
   "source": [
    "# Identify negative tweets (scores <= 0.5)\n",
    "negative_tweets_bert = df_result[df_result['sentiment'] == \"NEGATIVE\"]\n",
    "print(\"\\nNegative Tweets Analysis (Bert):\")\n",
    "print(f\"Number of negative tweets: {len(negative_tweets_bert)}\")\n",
    "print(\"\\nNegative Tweets --- Bert: \")\n",
    "print(negative_tweets_bert.head())"
   ]
  },
  {
   "cell_type": "code",
   "execution_count": null,
   "id": "fa8a15ba-8994-466c-b326-d399ce48f1d8",
   "metadata": {},
   "outputs": [],
   "source": []
  }
 ],
 "metadata": {
  "kernelspec": {
   "display_name": "Python 3 (ipykernel)",
   "language": "python",
   "name": "python3"
  },
  "language_info": {
   "codemirror_mode": {
    "name": "ipython",
    "version": 3
   },
   "file_extension": ".py",
   "mimetype": "text/x-python",
   "name": "python",
   "nbconvert_exporter": "python",
   "pygments_lexer": "ipython3",
   "version": "3.11.7"
  }
 },
 "nbformat": 4,
 "nbformat_minor": 5
}
