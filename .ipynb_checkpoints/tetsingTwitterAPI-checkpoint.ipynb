{
 "cells": [
  {
   "cell_type": "code",
   "execution_count": 2,
   "id": "b2cc6d25-6fe8-409e-b8e5-8409557df924",
   "metadata": {
    "scrolled": true
   },
   "outputs": [
    {
     "name": "stdout",
     "output_type": "stream",
     "text": [
      "Collecting tweepy\n",
      "  Obtaining dependency information for tweepy from https://files.pythonhosted.org/packages/4d/78/ba0065d5636bbf4a35b78c4f81b74e7858b609cdf69e629d6da5c91b9d92/tweepy-4.14.0-py3-none-any.whl.metadata\n",
      "  Downloading tweepy-4.14.0-py3-none-any.whl.metadata (3.8 kB)\n",
      "Collecting oauthlib<4,>=3.2.0 (from tweepy)\n",
      "  Obtaining dependency information for oauthlib<4,>=3.2.0 from https://files.pythonhosted.org/packages/7e/80/cab10959dc1faead58dc8384a781dfbf93cb4d33d50988f7a69f1b7c9bbe/oauthlib-3.2.2-py3-none-any.whl.metadata\n",
      "  Using cached oauthlib-3.2.2-py3-none-any.whl.metadata (7.5 kB)\n",
      "Requirement already satisfied: requests<3,>=2.27.0 in c:\\users\\zahra\\desktop\\jupyterprojects\\venv\\lib\\site-packages (from tweepy) (2.32.3)\n",
      "Collecting requests-oauthlib<2,>=1.2.0 (from tweepy)\n",
      "  Obtaining dependency information for requests-oauthlib<2,>=1.2.0 from https://files.pythonhosted.org/packages/6f/bb/5deac77a9af870143c684ab46a7934038a53eb4aa975bc0687ed6ca2c610/requests_oauthlib-1.3.1-py2.py3-none-any.whl.metadata\n",
      "  Using cached requests_oauthlib-1.3.1-py2.py3-none-any.whl.metadata (10 kB)\n",
      "Requirement already satisfied: charset-normalizer<4,>=2 in c:\\users\\zahra\\desktop\\jupyterprojects\\venv\\lib\\site-packages (from requests<3,>=2.27.0->tweepy) (3.3.2)\n",
      "Requirement already satisfied: idna<4,>=2.5 in c:\\users\\zahra\\desktop\\jupyterprojects\\venv\\lib\\site-packages (from requests<3,>=2.27.0->tweepy) (3.10)\n",
      "Requirement already satisfied: urllib3<3,>=1.21.1 in c:\\users\\zahra\\desktop\\jupyterprojects\\venv\\lib\\site-packages (from requests<3,>=2.27.0->tweepy) (1.26.20)\n",
      "Requirement already satisfied: certifi>=2017.4.17 in c:\\users\\zahra\\desktop\\jupyterprojects\\venv\\lib\\site-packages (from requests<3,>=2.27.0->tweepy) (2024.8.30)\n",
      "Downloading tweepy-4.14.0-py3-none-any.whl (98 kB)\n",
      "   ---------------------------------------- 0.0/98.5 kB ? eta -:--:--\n",
      "   ---- ----------------------------------- 10.2/98.5 kB ? eta -:--:--\n",
      "   ---- ----------------------------------- 10.2/98.5 kB ? eta -:--:--\n",
      "   ---------------- ----------------------- 41.0/98.5 kB 330.3 kB/s eta 0:00:01\n",
      "   ------------------------------------- -- 92.2/98.5 kB 585.1 kB/s eta 0:00:01\n",
      "   ---------------------------------------- 98.5/98.5 kB 565.9 kB/s eta 0:00:00\n",
      "Using cached oauthlib-3.2.2-py3-none-any.whl (151 kB)\n",
      "Using cached requests_oauthlib-1.3.1-py2.py3-none-any.whl (23 kB)\n",
      "Installing collected packages: oauthlib, requests-oauthlib, tweepy\n",
      "Successfully installed oauthlib-3.2.2 requests-oauthlib-1.3.1 tweepy-4.14.0\n"
     ]
    },
    {
     "name": "stderr",
     "output_type": "stream",
     "text": [
      "\n",
      "[notice] A new release of pip is available: 23.2.1 -> 24.3.1\n",
      "[notice] To update, run: python.exe -m pip install --upgrade pip\n"
     ]
    }
   ],
   "source": [
    "!pip install tweepy"
   ]
  },
  {
   "cell_type": "code",
   "execution_count": 7,
   "id": "2a63df2c-11d5-4da7-b2d2-4b1c946696dd",
   "metadata": {
    "scrolled": true
   },
   "outputs": [
    {
     "name": "stdout",
     "output_type": "stream",
     "text": [
      "Collecting textblob"
     ]
    },
    {
     "name": "stderr",
     "output_type": "stream",
     "text": [
      "\n",
      "[notice] A new release of pip is available: 23.2.1 -> 24.3.1\n",
      "[notice] To update, run: python.exe -m pip install --upgrade pip\n"
     ]
    },
    {
     "name": "stdout",
     "output_type": "stream",
     "text": [
      "\n",
      "  Obtaining dependency information for textblob from https://files.pythonhosted.org/packages/02/07/5fd2945356dd839974d3a25de8a142dc37293c21315729a41e775b5f3569/textblob-0.18.0.post0-py3-none-any.whl.metadata\n",
      "  Downloading textblob-0.18.0.post0-py3-none-any.whl.metadata (4.5 kB)\n",
      "Collecting nltk>=3.8 (from textblob)\n",
      "  Obtaining dependency information for nltk>=3.8 from https://files.pythonhosted.org/packages/4d/66/7d9e26593edda06e8cb531874633f7c2372279c3b0f46235539fe546df8b/nltk-3.9.1-py3-none-any.whl.metadata\n",
      "  Downloading nltk-3.9.1-py3-none-any.whl.metadata (2.9 kB)\n",
      "Collecting click (from nltk>=3.8->textblob)\n",
      "  Obtaining dependency information for click from https://files.pythonhosted.org/packages/00/2e/d53fa4befbf2cfa713304affc7ca780ce4fc1fd8710527771b58311a3229/click-8.1.7-py3-none-any.whl.metadata\n",
      "  Using cached click-8.1.7-py3-none-any.whl.metadata (3.0 kB)\n",
      "Requirement already satisfied: joblib in c:\\users\\zahra\\desktop\\jupyterprojects\\venv\\lib\\site-packages (from nltk>=3.8->textblob) (1.4.2)\n",
      "Collecting regex>=2021.8.3 (from nltk>=3.8->textblob)\n",
      "  Obtaining dependency information for regex>=2021.8.3 from https://files.pythonhosted.org/packages/80/32/763a6cc01d21fb3819227a1cc3f60fd251c13c37c27a73b8ff4315433a8e/regex-2024.11.6-cp311-cp311-win_amd64.whl.metadata\n",
      "  Downloading regex-2024.11.6-cp311-cp311-win_amd64.whl.metadata (41 kB)\n",
      "     ---------------------------------------- 0.0/41.5 kB ? eta -:--:--\n",
      "     --------- ------------------------------ 10.2/41.5 kB ? eta -:--:--\n",
      "     ------------------ ------------------- 20.5/41.5 kB 330.3 kB/s eta 0:00:01\n",
      "     ---------------------------- --------- 30.7/41.5 kB 262.6 kB/s eta 0:00:01\n",
      "     -------------------------------------- 41.5/41.5 kB 222.0 kB/s eta 0:00:00\n",
      "Requirement already satisfied: tqdm in c:\\users\\zahra\\desktop\\jupyterprojects\\venv\\lib\\site-packages (from nltk>=3.8->textblob) (4.66.5)\n",
      "Requirement already satisfied: colorama in c:\\users\\zahra\\desktop\\jupyterprojects\\venv\\lib\\site-packages (from click->nltk>=3.8->textblob) (0.4.6)\n",
      "Downloading textblob-0.18.0.post0-py3-none-any.whl (626 kB)\n",
      "   ---------------------------------------- 0.0/626.3 kB ? eta -:--:--\n",
      "   - -------------------------------------- 30.7/626.3 kB 1.3 MB/s eta 0:00:01\n",
      "   --- ----------------------------------- 61.4/626.3 kB 812.7 kB/s eta 0:00:01\n",
      "   --- ----------------------------------- 61.4/626.3 kB 812.7 kB/s eta 0:00:01\n",
      "   ----- --------------------------------- 81.9/626.3 kB 459.5 kB/s eta 0:00:02\n",
      "   ------- ------------------------------ 122.9/626.3 kB 514.3 kB/s eta 0:00:01\n",
      "   --------- ---------------------------- 153.6/626.3 kB 573.4 kB/s eta 0:00:01\n",
      "   --------- ---------------------------- 153.6/626.3 kB 573.4 kB/s eta 0:00:01\n",
      "   ----------- -------------------------- 194.6/626.3 kB 535.8 kB/s eta 0:00:01\n",
      "   -------------- ----------------------- 235.5/626.3 kB 554.9 kB/s eta 0:00:01\n",
      "   ---------------- --------------------- 276.5/626.3 kB 587.7 kB/s eta 0:00:01\n",
      "   ----------------- -------------------- 286.7/626.3 kB 553.0 kB/s eta 0:00:01\n",
      "   ------------------- ------------------ 317.4/626.3 kB 561.6 kB/s eta 0:00:01\n",
      "   --------------------- ---------------- 358.4/626.3 kB 602.4 kB/s eta 0:00:01\n",
      "   ----------------------- -------------- 389.1/626.3 kB 606.2 kB/s eta 0:00:01\n",
      "   ----------------------- -------------- 389.1/626.3 kB 606.2 kB/s eta 0:00:01\n",
      "   ------------------------- ------------ 419.8/626.3 kB 569.7 kB/s eta 0:00:01\n",
      "   --------------------------- ---------- 450.6/626.3 kB 574.8 kB/s eta 0:00:01\n",
      "   ----------------------------- -------- 481.3/626.3 kB 579.4 kB/s eta 0:00:01\n",
      "   ------------------------------- ------ 522.2/626.3 kB 585.1 kB/s eta 0:00:01\n",
      "   -------------------------------- ----- 532.5/626.3 kB 576.4 kB/s eta 0:00:01\n",
      "   ---------------------------------- --- 563.2/626.3 kB 580.2 kB/s eta 0:00:01\n",
      "   -------------------------------------  614.4/626.3 kB 594.6 kB/s eta 0:00:01\n",
      "   -------------------------------------- 626.3/626.3 kB 606.4 kB/s eta 0:00:00\n",
      "Downloading nltk-3.9.1-py3-none-any.whl (1.5 MB)\n",
      "   ---------------------------------------- 0.0/1.5 MB ? eta -:--:--\n",
      "    --------------------------------------- 0.0/1.5 MB 1.4 MB/s eta 0:00:02\n",
      "   -- ------------------------------------- 0.1/1.5 MB 845.5 kB/s eta 0:00:02\n",
      "   --- ------------------------------------ 0.1/1.5 MB 853.3 kB/s eta 0:00:02\n",
      "   ---- ----------------------------------- 0.2/1.5 MB 766.6 kB/s eta 0:00:02\n",
      "   ---- ----------------------------------- 0.2/1.5 MB 743.9 kB/s eta 0:00:02\n",
      "   ----- ---------------------------------- 0.2/1.5 MB 724.0 kB/s eta 0:00:02\n",
      "   ------ --------------------------------- 0.3/1.5 MB 714.4 kB/s eta 0:00:02\n",
      "   -------- ------------------------------- 0.3/1.5 MB 761.4 kB/s eta 0:00:02\n",
      "   -------- ------------------------------- 0.3/1.5 MB 749.8 kB/s eta 0:00:02\n",
      "   ---------- ----------------------------- 0.4/1.5 MB 782.8 kB/s eta 0:00:02\n",
      "   ----------- ---------------------------- 0.4/1.5 MB 771.4 kB/s eta 0:00:02\n",
      "   ------------ --------------------------- 0.5/1.5 MB 797.2 kB/s eta 0:00:02\n",
      "   ------------- -------------------------- 0.5/1.5 MB 784.0 kB/s eta 0:00:02\n",
      "   -------------- ------------------------- 0.6/1.5 MB 807.6 kB/s eta 0:00:02\n",
      "   --------------- ------------------------ 0.6/1.5 MB 797.6 kB/s eta 0:00:02\n",
      "   ---------------- ----------------------- 0.6/1.5 MB 816.5 kB/s eta 0:00:02\n",
      "   ----------------- ---------------------- 0.7/1.5 MB 822.3 kB/s eta 0:00:02\n",
      "   ------------------ --------------------- 0.7/1.5 MB 798.7 kB/s eta 0:00:02\n",
      "   ------------------- -------------------- 0.7/1.5 MB 813.8 kB/s eta 0:00:01\n",
      "   --------------------- ------------------ 0.8/1.5 MB 827.4 kB/s eta 0:00:01\n",
      "   ---------------------- ----------------- 0.8/1.5 MB 832.5 kB/s eta 0:00:01\n",
      "   ---------------------- ----------------- 0.9/1.5 MB 800.3 kB/s eta 0:00:01\n",
      "   ----------------------- ---------------- 0.9/1.5 MB 805.0 kB/s eta 0:00:01\n",
      "   ------------------------- -------------- 0.9/1.5 MB 817.4 kB/s eta 0:00:01\n",
      "   -------------------------- ------------- 1.0/1.5 MB 828.2 kB/s eta 0:00:01\n",
      "   --------------------------- ------------ 1.0/1.5 MB 831.6 kB/s eta 0:00:01\n",
      "   ---------------------------- ----------- 1.1/1.5 MB 815.4 kB/s eta 0:00:01\n",
      "   ---------------------------- ----------- 1.1/1.5 MB 809.6 kB/s eta 0:00:01\n",
      "   ------------------------------ --------- 1.1/1.5 MB 819.2 kB/s eta 0:00:01\n",
      "   ------------------------------- -------- 1.2/1.5 MB 828.1 kB/s eta 0:00:01\n",
      "   --------------------------------- ------ 1.2/1.5 MB 843.5 kB/s eta 0:00:01\n",
      "   ---------------------------------- ----- 1.3/1.5 MB 851.6 kB/s eta 0:00:01\n",
      "   ----------------------------------- ---- 1.4/1.5 MB 867.1 kB/s eta 0:00:01\n",
      "   ------------------------------------- -- 1.4/1.5 MB 871.9 kB/s eta 0:00:01\n",
      "   ---------------------------------------  1.5/1.5 MB 890.4 kB/s eta 0:00:01\n",
      "   ---------------------------------------- 1.5/1.5 MB 886.3 kB/s eta 0:00:00\n",
      "Downloading regex-2024.11.6-cp311-cp311-win_amd64.whl (274 kB)\n",
      "   ---------------------------------------- 0.0/274.1 kB ? eta -:--:--\n",
      "   ----- --------------------------------- 41.0/274.1 kB 991.0 kB/s eta 0:00:01\n",
      "   ----------------- ---------------------- 122.9/274.1 kB 1.4 MB/s eta 0:00:01\n",
      "   -------------------------- ------------- 184.3/274.1 kB 1.4 MB/s eta 0:00:01\n",
      "   ---------------------------------- ----- 235.5/274.1 kB 1.4 MB/s eta 0:00:01\n",
      "   ---------------------------------------- 274.1/274.1 kB 1.3 MB/s eta 0:00:00\n",
      "Using cached click-8.1.7-py3-none-any.whl (97 kB)\n",
      "Installing collected packages: regex, click, nltk, textblob\n",
      "Successfully installed click-8.1.7 nltk-3.9.1 regex-2024.11.6 textblob-0.18.0.post0\n"
     ]
    }
   ],
   "source": [
    "!pip install textblob"
   ]
  },
  {
   "cell_type": "code",
   "execution_count": 9,
   "id": "768c6ec9-4b4c-445f-b285-3e8177b4b9da",
   "metadata": {},
   "outputs": [],
   "source": [
    "import tweepy\n",
    "from datetime import datetime\n",
    "import pandas as pd\n",
    "import matplotlib.pyplot as plt\n",
    "from textblob import TextBlob"
   ]
  },
  {
   "cell_type": "code",
   "execution_count": 37,
   "id": "90e96207-9370-4d5b-89f8-5538c69f9c9f",
   "metadata": {
    "scrolled": true
   },
   "outputs": [
    {
     "name": "stdout",
     "output_type": "stream",
     "text": [
      "Requirement already satisfied: twikit==1.7.6 in c:\\users\\zahra\\desktop\\jupyterprojects\\venv\\lib\\site-packages (1.7.6)\n",
      "Requirement already satisfied: httpx in c:\\users\\zahra\\desktop\\jupyterprojects\\venv\\lib\\site-packages (from twikit==1.7.6) (0.27.2)\n",
      "Requirement already satisfied: filetype in c:\\users\\zahra\\desktop\\jupyterprojects\\venv\\lib\\site-packages (from twikit==1.7.6) (1.2.0)\n",
      "Requirement already satisfied: beautifulsoup4 in c:\\users\\zahra\\desktop\\jupyterprojects\\venv\\lib\\site-packages (from twikit==1.7.6) (4.12.3)\n",
      "Requirement already satisfied: pyotp in c:\\users\\zahra\\desktop\\jupyterprojects\\venv\\lib\\site-packages (from twikit==1.7.6) (2.9.0)\n",
      "Requirement already satisfied: soupsieve>1.2 in c:\\users\\zahra\\desktop\\jupyterprojects\\venv\\lib\\site-packages (from beautifulsoup4->twikit==1.7.6) (2.6)\n",
      "Requirement already satisfied: anyio in c:\\users\\zahra\\desktop\\jupyterprojects\\venv\\lib\\site-packages (from httpx->twikit==1.7.6) (4.6.0)\n",
      "Requirement already satisfied: certifi in c:\\users\\zahra\\desktop\\jupyterprojects\\venv\\lib\\site-packages (from httpx->twikit==1.7.6) (2024.8.30)\n",
      "Requirement already satisfied: httpcore==1.* in c:\\users\\zahra\\desktop\\jupyterprojects\\venv\\lib\\site-packages (from httpx->twikit==1.7.6) (1.0.5)\n",
      "Requirement already satisfied: idna in c:\\users\\zahra\\desktop\\jupyterprojects\\venv\\lib\\site-packages (from httpx->twikit==1.7.6) (3.10)\n",
      "Requirement already satisfied: sniffio in c:\\users\\zahra\\desktop\\jupyterprojects\\venv\\lib\\site-packages (from httpx->twikit==1.7.6) (1.3.1)\n",
      "Requirement already satisfied: h11<0.15,>=0.13 in c:\\users\\zahra\\desktop\\jupyterprojects\\venv\\lib\\site-packages (from httpcore==1.*->httpx->twikit==1.7.6) (0.14.0)\n"
     ]
    },
    {
     "name": "stderr",
     "output_type": "stream",
     "text": [
      "\n",
      "[notice] A new release of pip is available: 23.2.1 -> 24.3.1\n",
      "[notice] To update, run: python.exe -m pip install --upgrade pip\n"
     ]
    }
   ],
   "source": [
    "!pip install twikit==\"1.7.6\""
   ]
  },
  {
   "cell_type": "code",
   "execution_count": 38,
   "id": "879242a0-d1c1-447d-a63e-edb77939d06a",
   "metadata": {},
   "outputs": [],
   "source": [
    "from twikit import Client, TooManyRequests\n",
    "import time\n",
    "import csv\n",
    "from configparser import ConfigParser\n",
    "from random import randint"
   ]
  },
  {
   "cell_type": "code",
   "execution_count": 39,
   "id": "23ba2d38-5861-45ab-bdd3-bdf88aa57b67",
   "metadata": {},
   "outputs": [],
   "source": [
    "MINIMUM_TWEETS=10\n",
    "QUERY=\"chatgpt\"\n",
    "\n",
    "#* login credentials\n",
    "config = ConfigParser()\n",
    "config.read('config.ini')\n",
    "username = config['X']['username']\n",
    "email = config['X']['email']\n",
    "password = config['X']['password']"
   ]
  },
  {
   "cell_type": "code",
   "execution_count": 40,
   "id": "73e34d0c-b4d6-46ca-b6c9-4261dd59bd26",
   "metadata": {},
   "outputs": [],
   "source": [
    "#* create a csv file\n",
    "with open('tweets.csv', 'w', newline='') as file:\n",
    "    writer = csv.writer(file)\n",
    "    writer.writerow(['tweet_id', 'tweet_date', 'tweet_text', 'nbr_likes', 'nbr_retweets', 'nbr_caracters', 'author_id', 'comments'])"
   ]
  },
  {
   "cell_type": "code",
   "execution_count": 41,
   "id": "a359c1bc-0b33-4b3a-aefc-ded252db6a82",
   "metadata": {},
   "outputs": [],
   "source": [
    "#* authenticate to X.com\n",
    "client = Client(language='en-US')\n",
    "client.load_cookies('cookies.json')"
   ]
  },
  {
   "cell_type": "code",
   "execution_count": null,
   "id": "99429755-54b5-4bdf-9f70-97d5760e8516",
   "metadata": {},
   "outputs": [],
   "source": []
  },
  {
   "cell_type": "code",
   "execution_count": 58,
   "id": "0f3cbe19-24d3-4581-9ef8-393a18270bbb",
   "metadata": {},
   "outputs": [],
   "source": [
    "async def get_tweets(client, tweets):\n",
    "    if tweets is None:\n",
    "        # Initial tweet retrieval\n",
    "        print(f'{datetime.now()} - Getting tweets...')\n",
    "        tweets = await client.search_tweet(QUERY)\n",
    "    # else:\n",
    "    #     wait_time = randint(5, 10)\n",
    "    #     print(f'{datetime.now()} - Getting next tweets after {wait_time} seconds ...')\n",
    "    #     time.sleep(wait_time)\n",
    "    #     tweets = await tweets.next()  # Assuming `tweets.next()` is also a coroutine and needs `await`\n",
    "\n",
    "    return tweets\n",
    "\n"
   ]
  },
  {
   "cell_type": "code",
   "execution_count": 59,
   "id": "186db84e-7c75-4a97-9b2a-7a7a1d9913bc",
   "metadata": {},
   "outputs": [
    {
     "data": {
      "text/plain": [
       "<coroutine object Client.search_tweet at 0x000001B406B8CFE0>"
      ]
     },
     "execution_count": 59,
     "metadata": {},
     "output_type": "execute_result"
    }
   ],
   "source": [
    "await get_tweets(client, tweets)"
   ]
  },
  {
   "cell_type": "code",
   "execution_count": null,
   "id": "c06ae192-c591-49c6-90fe-0a74a4e7129e",
   "metadata": {},
   "outputs": [],
   "source": []
  }
 ],
 "metadata": {
  "kernelspec": {
   "display_name": "Python 3 (ipykernel)",
   "language": "python",
   "name": "python3"
  },
  "language_info": {
   "codemirror_mode": {
    "name": "ipython",
    "version": 3
   },
   "file_extension": ".py",
   "mimetype": "text/x-python",
   "name": "python",
   "nbconvert_exporter": "python",
   "pygments_lexer": "ipython3",
   "version": "3.11.7"
  }
 },
 "nbformat": 4,
 "nbformat_minor": 5
}
