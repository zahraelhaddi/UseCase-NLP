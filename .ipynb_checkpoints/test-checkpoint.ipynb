{
 "cells": [
  {
   "cell_type": "code",
   "execution_count": 1,
   "id": "5465fb3a-0466-4321-80db-332b0f8ee213",
   "metadata": {},
   "outputs": [
    {
     "name": "stdout",
     "output_type": "stream",
     "text": [
      "Tweet Data:\n",
      "{'__typename': 'Tweet', 'lang': 'en', 'favorite_count': 2037, 'possibly_sensitive': False, 'created_at': '2023-02-23T19:01:06.000Z', 'display_text_range': [0, 200], 'entities': {'hashtags': [], 'urls': [{'display_url': 'nextjs.org/13-2', 'expanded_url': 'https://nextjs.org/13-2', 'indices': [177, 200], 'url': 'https://t.co/E9JTPkhWqF'}], 'user_mentions': [], 'symbols': []}, 'id_str': '1628832338187636740', 'text': 'Next.js 13.2\\n\\n◆ Built-in SEO with Metadata API\\n◆ Route Handlers\\n◆ MDX for Server Components\\n◆ Rust MDX Parser\\n◆ Statically Typed Links\\n◆ Next.js Cache\\n◆ Turbopack Improvements\\n\\nhttps://t.co/E9JTPkhWqF', 'user': {'id_str': '4686835494', 'name': 'Vercel', 'profile_image_url_https': 'https://pbs.twimg.com/profile_images/1767351110228918272/3Pndc5OT_normal.png', 'screen_name': 'vercel', 'verified': False, 'verified_type': 'Business', 'is_blue_verified': False, 'profile_image_shape': 'Square'}, 'edit_control': {'edit_tweet_ids': ['1628832338187636740'], 'editable_until_msecs': '1677180666000', 'is_edit_eligible': True, 'edits_remaining': '5'}, 'conversation_count': 50, 'news_action_type': 'conversation', 'card': {'card_platform': {'platform': {'audience': {'name': 'production'}, 'device': {'name': 'iPhone', 'version': '13'}}}, 'name': 'summary_large_image', 'url': 'https://t.co/E9JTPkhWqF', 'binding_values': {'photo_image_full_size_large': {'image_value': {'height': 419, 'width': 800, 'url': 'https://pbs.twimg.com/card_img/1854753804815564807/ZfEpJAuI?format=png&name=800x419'}, 'type': 'IMAGE'}, 'thumbnail_image': {'image_value': {'height': 150, 'width': 267, 'url': 'https://pbs.twimg.com/card_img/1854753804815564807/ZfEpJAuI?format=png&name=280x150'}, 'type': 'IMAGE'}, 'description': {'string_value': 'Next.js 13.2 introduces major improvements to the App Router in preparation for stability, including SEO support, Route Handlers, MDX for Server Components, Type-Safe Links, and more.', 'type': 'STRING'}, 'domain': {'string_value': 'nextjs.org', 'type': 'STRING'}, 'thumbnail_image_large': {'image_value': {'height': 320, 'width': 569, 'url': 'https://pbs.twimg.com/card_img/1854753804815564807/ZfEpJAuI?format=png&name=800x320_1'}, 'type': 'IMAGE'}, 'summary_photo_image_small': {'image_value': {'height': 202, 'width': 386, 'url': 'https://pbs.twimg.com/card_img/1854753804815564807/ZfEpJAuI?format=png&name=386x202'}, 'type': 'IMAGE'}, 'thumbnail_image_original': {'image_value': {'height': 900, 'width': 1600, 'url': 'https://pbs.twimg.com/card_img/1854753804815564807/ZfEpJAuI?format=png&name=orig'}, 'type': 'IMAGE'}, 'photo_image_full_size_small': {'image_value': {'height': 202, 'width': 386, 'url': 'https://pbs.twimg.com/card_img/1854753804815564807/ZfEpJAuI?format=png&name=386x202'}, 'type': 'IMAGE'}, 'summary_photo_image_large': {'image_value': {'height': 419, 'width': 800, 'url': 'https://pbs.twimg.com/card_img/1854753804815564807/ZfEpJAuI?format=png&name=800x419'}, 'type': 'IMAGE'}, 'thumbnail_image_small': {'image_value': {'height': 81, 'width': 144, 'url': 'https://pbs.twimg.com/card_img/1854753804815564807/ZfEpJAuI?format=png&name=144x144'}, 'type': 'IMAGE'}, 'thumbnail_image_x_large': {'image_value': {'height': 900, 'width': 1600, 'url': 'https://pbs.twimg.com/card_img/1854753804815564807/ZfEpJAuI?format=png&name=2048x2048_2_exp'}, 'type': 'IMAGE'}, 'photo_image_full_size_original': {'image_value': {'height': 900, 'width': 1600, 'url': 'https://pbs.twimg.com/card_img/1854753804815564807/ZfEpJAuI?format=png&name=orig'}, 'type': 'IMAGE'}, 'vanity_url': {'scribe_key': 'vanity_url', 'string_value': 'nextjs.org', 'type': 'STRING'}, 'photo_image_full_size': {'image_value': {'height': 314, 'width': 600, 'url': 'https://pbs.twimg.com/card_img/1854753804815564807/ZfEpJAuI?format=png&name=600x314'}, 'type': 'IMAGE'}, 'thumbnail_image_color': {'image_color_value': {'palette': [{'rgb': {'blue': 17, 'green': 17, 'red': 17}, 'percentage': 93.31}, {'rgb': {'blue': 122, 'green': 122, 'red': 122}, 'percentage': 5.72}, {'rgb': {'blue': 182, 'green': 182, 'red': 182}, 'percentage': 2.08}]}, 'type': 'IMAGE_COLOR'}, 'title': {'string_value': 'Next.js 13.2', 'type': 'STRING'}, 'summary_photo_image_color': {'image_color_value': {'palette': [{'rgb': {'blue': 17, 'green': 17, 'red': 17}, 'percentage': 93.31}, {'rgb': {'blue': 122, 'green': 122, 'red': 122}, 'percentage': 5.72}, {'rgb': {'blue': 182, 'green': 182, 'red': 182}, 'percentage': 2.08}]}, 'type': 'IMAGE_COLOR'}, 'summary_photo_image_x_large': {'image_value': {'height': 900, 'width': 1600, 'url': 'https://pbs.twimg.com/card_img/1854753804815564807/ZfEpJAuI?format=png&name=2048x2048_2_exp'}, 'type': 'IMAGE'}, 'summary_photo_image': {'image_value': {'height': 314, 'width': 600, 'url': 'https://pbs.twimg.com/card_img/1854753804815564807/ZfEpJAuI?format=png&name=600x314'}, 'type': 'IMAGE'}, 'photo_image_full_size_color': {'image_color_value': {'palette': [{'rgb': {'blue': 17, 'green': 17, 'red': 17}, 'percentage': 93.31}, {'rgb': {'blue': 122, 'green': 122, 'red': 122}, 'percentage': 5.72}, {'rgb': {'blue': 182, 'green': 182, 'red': 182}, 'percentage': 2.08}]}, 'type': 'IMAGE_COLOR'}, 'photo_image_full_size_x_large': {'image_value': {'height': 900, 'width': 1600, 'url': 'https://pbs.twimg.com/card_img/1854753804815564807/ZfEpJAuI?format=png&name=2048x2048_2_exp'}, 'type': 'IMAGE'}, 'card_url': {'scribe_key': 'card_url', 'string_value': 'https://t.co/E9JTPkhWqF', 'type': 'STRING'}, 'summary_photo_image_original': {'image_value': {'height': 900, 'width': 1600, 'url': 'https://pbs.twimg.com/card_img/1854753804815564807/ZfEpJAuI?format=png&name=orig'}, 'type': 'IMAGE'}}}, 'isEdited': False, 'isStaleEdit': False}\n"
     ]
    }
   ],
   "source": [
    "import requests\n",
    "import math\n",
    "\n",
    "# Function to generate the token\n",
    "def get_token(tweet_id):\n",
    "    \"\"\"\n",
    "    Generates a token based on the tweet ID.\n",
    "    \"\"\"\n",
    "    token = ((int(tweet_id) / 1e15) * math.pi)\n",
    "    return format(token, \".16f\").replace(\"0\", \"\").replace(\".\", \"\")\n",
    "\n",
    "# Function to fetch tweet data\n",
    "def fetch_tweet_data(tweet_id):\n",
    "    \"\"\"A\n",
    "    Fetches tweet data using the free Twitter syndication API.\n",
    "    \"\"\"\n",
    "    token = get_token(tweet_id)\n",
    "    url = f\"https://cdn.syndication.twimg.com/tweet-result?id={tweet_id}&token={token}\"\n",
    "\n",
    "    try:\n",
    "        response = requests.get(url)\n",
    "        response.raise_for_status()\n",
    "        data = response.json()  # Parse JSON response\n",
    "        return data  # Return tweet data\n",
    "    except requests.exceptions.RequestException as e:\n",
    "        print(f\"Error fetching tweet data: {e}\")\n",
    "        return None\n",
    "\n",
    "# Example usage\n",
    "tweet_id = '1628832338187636740'  # Replace with the tweet ID you want to fetch\n",
    "tweet_data = fetch_tweet_data(tweet_id)\n",
    "\n",
    "if tweet_data:\n",
    "    print(\"Tweet Data:\")\n",
    "    print(tweet_data)\n",
    "else:\n",
    "    print(\"Failed to fetch tweet data.\")\n"
   ]
  },
  {
   "cell_type": "code",
   "execution_count": null,
   "id": "eae30ec4-bf9d-4e76-b618-006c3a73aa97",
   "metadata": {},
   "outputs": [],
   "source": []
  }
 ],
 "metadata": {
  "kernelspec": {
   "display_name": "Python 3 (ipykernel)",
   "language": "python",
   "name": "python3"
  },
  "language_info": {
   "codemirror_mode": {
    "name": "ipython",
    "version": 3
   },
   "file_extension": ".py",
   "mimetype": "text/x-python",
   "name": "python",
   "nbconvert_exporter": "python",
   "pygments_lexer": "ipython3",
   "version": "3.11.7"
  }
 },
 "nbformat": 4,
 "nbformat_minor": 5
}
