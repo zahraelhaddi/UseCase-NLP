{
 "cells": [
  {
   "cell_type": "markdown",
   "id": "e4171523-c0c2-4368-9ce2-879f706dedc8",
   "metadata": {},
   "source": [
    "## webscraping"
   ]
  },
  {
   "cell_type": "code",
   "execution_count": 2,
   "id": "3f01dab0-d104-49f5-90b7-c110a029d0f2",
   "metadata": {
    "scrolled": true
   },
   "outputs": [
    {
     "name": "stdout",
     "output_type": "stream",
     "text": [
      "Collecting selenium\n",
      "  Obtaining dependency information for selenium from https://files.pythonhosted.org/packages/91/08/10cff8463b3510b78f9e3dcef6b37c542b06d71ed1240a8940ba0c75d3bc/selenium-4.26.1-py3-none-any.whl.metadata\n",
      "  Downloading selenium-4.26.1-py3-none-any.whl.metadata (7.1 kB)\n",
      "Requirement already satisfied: urllib3[socks]<3,>=1.26 in c:\\users\\zahra\\desktop\\jupyterprojects\\venv\\lib\\site-packages (from selenium) (1.26.20)\n",
      "Collecting trio~=0.17 (from selenium)\n",
      "  Obtaining dependency information for trio~=0.17 from https://files.pythonhosted.org/packages/3c/83/ec3196c360afffbc5b342ead48d1eb7393dd74fa70bca75d33905a86f211/trio-0.27.0-py3-none-any.whl.metadata\n",
      "  Downloading trio-0.27.0-py3-none-any.whl.metadata (8.6 kB)\n",
      "Collecting trio-websocket~=0.9 (from selenium)\n",
      "  Obtaining dependency information for trio-websocket~=0.9 from https://files.pythonhosted.org/packages/48/be/a9ae5f50cad5b6f85bd2574c2c923730098530096e170c1ce7452394d7aa/trio_websocket-0.11.1-py3-none-any.whl.metadata\n",
      "  Using cached trio_websocket-0.11.1-py3-none-any.whl.metadata (4.7 kB)\n",
      "Requirement already satisfied: certifi>=2021.10.8 in c:\\users\\zahra\\desktop\\jupyterprojects\\venv\\lib\\site-packages (from selenium) (2024.8.30)\n",
      "Requirement already satisfied: typing_extensions~=4.9 in c:\\users\\zahra\\desktop\\jupyterprojects\\venv\\lib\\site-packages (from selenium) (4.12.2)\n",
      "Requirement already satisfied: websocket-client~=1.8 in c:\\users\\zahra\\desktop\\jupyterprojects\\venv\\lib\\site-packages (from selenium) (1.8.0)\n",
      "Requirement already satisfied: attrs>=23.2.0 in c:\\users\\zahra\\desktop\\jupyterprojects\\venv\\lib\\site-packages (from trio~=0.17->selenium) (24.2.0)\n",
      "Collecting sortedcontainers (from trio~=0.17->selenium)\n",
      "  Obtaining dependency information for sortedcontainers from https://files.pythonhosted.org/packages/32/46/9cb0e58b2deb7f82b84065f37f3bffeb12413f947f9388e4cac22c4621ce/sortedcontainers-2.4.0-py2.py3-none-any.whl.metadata\n",
      "  Using cached sortedcontainers-2.4.0-py2.py3-none-any.whl.metadata (10 kB)\n",
      "Requirement already satisfied: idna in c:\\users\\zahra\\desktop\\jupyterprojects\\venv\\lib\\site-packages (from trio~=0.17->selenium) (3.10)\n",
      "Collecting outcome (from trio~=0.17->selenium)\n",
      "  Obtaining dependency information for outcome from https://files.pythonhosted.org/packages/55/8b/5ab7257531a5d830fc8000c476e63c935488d74609b50f9384a643ec0a62/outcome-1.3.0.post0-py2.py3-none-any.whl.metadata\n",
      "  Using cached outcome-1.3.0.post0-py2.py3-none-any.whl.metadata (2.6 kB)\n",
      "Requirement already satisfied: sniffio>=1.3.0 in c:\\users\\zahra\\desktop\\jupyterprojects\\venv\\lib\\site-packages (from trio~=0.17->selenium) (1.3.1)\n",
      "Requirement already satisfied: cffi>=1.14 in c:\\users\\zahra\\desktop\\jupyterprojects\\venv\\lib\\site-packages (from trio~=0.17->selenium) (1.17.1)\n",
      "Collecting wsproto>=0.14 (from trio-websocket~=0.9->selenium)\n",
      "  Obtaining dependency information for wsproto>=0.14 from https://files.pythonhosted.org/packages/78/58/e860788190eba3bcce367f74d29c4675466ce8dddfba85f7827588416f01/wsproto-1.2.0-py3-none-any.whl.metadata\n",
      "  Using cached wsproto-1.2.0-py3-none-any.whl.metadata (5.6 kB)\n",
      "Collecting PySocks!=1.5.7,<2.0,>=1.5.6 (from urllib3[socks]<3,>=1.26->selenium)\n",
      "  Obtaining dependency information for PySocks!=1.5.7,<2.0,>=1.5.6 from https://files.pythonhosted.org/packages/8d/59/b4572118e098ac8e46e399a1dd0f2d85403ce8bbaad9ec79373ed6badaf9/PySocks-1.7.1-py3-none-any.whl.metadata\n",
      "  Using cached PySocks-1.7.1-py3-none-any.whl.metadata (13 kB)\n",
      "Requirement already satisfied: pycparser in c:\\users\\zahra\\desktop\\jupyterprojects\\venv\\lib\\site-packages (from cffi>=1.14->trio~=0.17->selenium) (2.22)\n",
      "Requirement already satisfied: h11<1,>=0.9.0 in c:\\users\\zahra\\desktop\\jupyterprojects\\venv\\lib\\site-packages (from wsproto>=0.14->trio-websocket~=0.9->selenium) (0.14.0)\n",
      "Downloading selenium-4.26.1-py3-none-any.whl (9.7 MB)\n",
      "   ---------------------------------------- 0.0/9.7 MB ? eta -:--:--\n",
      "   ---------------------------------------- 0.0/9.7 MB ? eta -:--:--\n",
      "   ---------------------------------------- 0.1/9.7 MB 1.3 MB/s eta 0:00:08\n",
      "   - -------------------------------------- 0.3/9.7 MB 2.5 MB/s eta 0:00:04\n",
      "   -- ------------------------------------- 0.6/9.7 MB 4.0 MB/s eta 0:00:03\n",
      "   ----- ---------------------------------- 1.2/9.7 MB 6.0 MB/s eta 0:00:02\n",
      "   --------- ------------------------------ 2.3/9.7 MB 9.2 MB/s eta 0:00:01\n",
      "   ------------ --------------------------- 3.1/9.7 MB 10.5 MB/s eta 0:00:01\n",
      "   ----------------- ---------------------- 4.3/9.7 MB 12.4 MB/s eta 0:00:01\n",
      "   ---------------------- ----------------- 5.3/9.7 MB 13.6 MB/s eta 0:00:01\n",
      "   --------------------------- ------------ 6.6/9.7 MB 15.0 MB/s eta 0:00:01\n",
      "   ------------------------------- -------- 7.7/9.7 MB 15.9 MB/s eta 0:00:01\n",
      "   ------------------------------------ --- 9.0/9.7 MB 16.8 MB/s eta 0:00:01\n",
      "   ---------------------------------------  9.7/9.7 MB 17.2 MB/s eta 0:00:01\n",
      "   ---------------------------------------- 9.7/9.7 MB 16.3 MB/s eta 0:00:00\n",
      "Downloading trio-0.27.0-py3-none-any.whl (481 kB)\n",
      "   ---------------------------------------- 0.0/481.7 kB ? eta -:--:--\n",
      "   --------------------------------------- 481.7/481.7 kB 29.5 MB/s eta 0:00:00\n",
      "Using cached trio_websocket-0.11.1-py3-none-any.whl (17 kB)\n",
      "Using cached PySocks-1.7.1-py3-none-any.whl (16 kB)\n",
      "Using cached wsproto-1.2.0-py3-none-any.whl (24 kB)\n",
      "Using cached outcome-1.3.0.post0-py2.py3-none-any.whl (10 kB)\n",
      "Using cached sortedcontainers-2.4.0-py2.py3-none-any.whl (29 kB)\n",
      "Installing collected packages: sortedcontainers, wsproto, PySocks, outcome, trio, trio-websocket, selenium\n",
      "Successfully installed PySocks-1.7.1 outcome-1.3.0.post0 selenium-4.26.1 sortedcontainers-2.4.0 trio-0.27.0 trio-websocket-0.11.1 wsproto-1.2.0\n"
     ]
    },
    {
     "name": "stderr",
     "output_type": "stream",
     "text": [
      "\n",
      "[notice] A new release of pip is available: 23.2.1 -> 24.3.1\n",
      "[notice] To update, run: python.exe -m pip install --upgrade pip\n"
     ]
    }
   ],
   "source": [
    "!pip install selenium"
   ]
  },
  {
   "cell_type": "code",
   "execution_count": 118,
   "id": "0d66dc45-2778-4d2e-a2dd-cafa6c6eaf3c",
   "metadata": {
    "scrolled": true
   },
   "outputs": [
    {
     "name": "stdout",
     "output_type": "stream",
     "text": [
      "Requirement already satisfied: nltk in c:\\users\\zahra\\desktop\\jupyterprojects\\venv\\lib\\site-packages (3.9.1)\n",
      "Requirement already satisfied: textblob in c:\\users\\zahra\\desktop\\jupyterprojects\\venv\\lib\\site-packages (0.18.0.post0)\n",
      "Collecting vaderSentiment\n",
      "  Obtaining dependency information for vaderSentiment from https://files.pythonhosted.org/packages/76/fc/310e16254683c1ed35eeb97386986d6c00bc29df17ce280aed64d55537e9/vaderSentiment-3.3.2-py2.py3-none-any.whl.metadata\n",
      "  Downloading vaderSentiment-3.3.2-py2.py3-none-any.whl.metadata (572 bytes)\n",
      "Requirement already satisfied: pandas in c:\\users\\zahra\\desktop\\jupyterprojects\\venv\\lib\\site-packages (2.2.3)\n",
      "Requirement already satisfied: click in c:\\users\\zahra\\desktop\\jupyterprojects\\venv\\lib\\site-packages (from nltk) (8.1.7)\n",
      "Requirement already satisfied: joblib in c:\\users\\zahra\\desktop\\jupyterprojects\\venv\\lib\\site-packages (from nltk) (1.4.2)\n",
      "Requirement already satisfied: regex>=2021.8.3 in c:\\users\\zahra\\desktop\\jupyterprojects\\venv\\lib\\site-packages (from nltk) (2024.11.6)\n",
      "Requirement already satisfied: tqdm in c:\\users\\zahra\\desktop\\jupyterprojects\\venv\\lib\\site-packages (from nltk) (4.66.5)\n",
      "Requirement already satisfied: requests in c:\\users\\zahra\\desktop\\jupyterprojects\\venv\\lib\\site-packages (from vaderSentiment) (2.32.3)\n",
      "Requirement already satisfied: numpy>=1.23.2 in c:\\users\\zahra\\desktop\\jupyterprojects\\venv\\lib\\site-packages (from pandas) (2.1.1)\n",
      "Requirement already satisfied: python-dateutil>=2.8.2 in c:\\users\\zahra\\desktop\\jupyterprojects\\venv\\lib\\site-packages (from pandas) (2.9.0.post0)\n",
      "Requirement already satisfied: pytz>=2020.1 in c:\\users\\zahra\\desktop\\jupyterprojects\\venv\\lib\\site-packages (from pandas) (2024.2)\n",
      "Requirement already satisfied: tzdata>=2022.7 in c:\\users\\zahra\\desktop\\jupyterprojects\\venv\\lib\\site-packages (from pandas) (2024.2)\n",
      "Requirement already satisfied: six>=1.5 in c:\\users\\zahra\\desktop\\jupyterprojects\\venv\\lib\\site-packages (from python-dateutil>=2.8.2->pandas) (1.16.0)\n",
      "Requirement already satisfied: colorama in c:\\users\\zahra\\desktop\\jupyterprojects\\venv\\lib\\site-packages (from click->nltk) (0.4.6)\n",
      "Requirement already satisfied: charset-normalizer<4,>=2 in c:\\users\\zahra\\desktop\\jupyterprojects\\venv\\lib\\site-packages (from requests->vaderSentiment) (3.3.2)\n",
      "Requirement already satisfied: idna<4,>=2.5 in c:\\users\\zahra\\desktop\\jupyterprojects\\venv\\lib\\site-packages (from requests->vaderSentiment) (3.10)\n",
      "Requirement already satisfied: urllib3<3,>=1.21.1 in c:\\users\\zahra\\desktop\\jupyterprojects\\venv\\lib\\site-packages (from requests->vaderSentiment) (1.26.20)\n",
      "Requirement already satisfied: certifi>=2017.4.17 in c:\\users\\zahra\\desktop\\jupyterprojects\\venv\\lib\\site-packages (from requests->vaderSentiment) (2024.8.30)\n",
      "Downloading vaderSentiment-3.3.2-py2.py3-none-any.whl (125 kB)\n",
      "   ---------------------------------------- 0.0/126.0 kB ? eta -:--:--\n",
      "   ---------------------------------------- 0.0/126.0 kB ? eta -:--:--\n",
      "   --- ------------------------------------ 10.2/126.0 kB ? eta -:--:--\n",
      "   ------------ -------------------------- 41.0/126.0 kB 393.8 kB/s eta 0:00:01\n",
      "   --------------------------------- ---- 112.6/126.0 kB 726.2 kB/s eta 0:00:01\n",
      "   -------------------------------------- 126.0/126.0 kB 741.7 kB/s eta 0:00:00\n",
      "Installing collected packages: vaderSentiment\n",
      "Successfully installed vaderSentiment-3.3.2\n"
     ]
    },
    {
     "name": "stderr",
     "output_type": "stream",
     "text": [
      "\n",
      "[notice] A new release of pip is available: 23.2.1 -> 24.3.1\n",
      "[notice] To update, run: C:\\Users\\Zahra\\Desktop\\JupyterProjects\\venv\\Scripts\\python.exe -m pip install --upgrade pip\n"
     ]
    }
   ],
   "source": [
    "# !pip install nltk textblob vaderSentiment pandas"
   ]
  },
  {
   "cell_type": "code",
   "execution_count": 2,
   "id": "5e00c793-34c2-49e7-864c-3f255504d8ec",
   "metadata": {},
   "outputs": [],
   "source": [
    "import selenium\n",
    "from selenium import webdriver\n",
    "from selenium.webdriver.common.by import By\n",
    "from selenium.webdriver.common.keys import Keys\n",
    "from time import sleep\n",
    "import getpass"
   ]
  },
  {
   "cell_type": "code",
   "execution_count": 3,
   "id": "68df02da-0c4a-48bb-9034-4c9f0cf5b318",
   "metadata": {},
   "outputs": [
    {
     "name": "stdin",
     "output_type": "stream",
     "text": [
      " ········\n"
     ]
    }
   ],
   "source": [
    "my_user = \"zahra.elhaddi11@gmail.com\"\n",
    "my_pass = getpass.getpass()"
   ]
  },
  {
   "cell_type": "code",
   "execution_count": 3,
   "id": "69982718-d8cb-46ef-9c0e-34690c39972c",
   "metadata": {},
   "outputs": [
    {
     "name": "stdout",
     "output_type": "stream",
     "text": [
      "Requirement already satisfied: webdriver-manager in c:\\users\\zahra\\desktop\\jupyterprojects\\venv\\lib\\site-packages (4.0.2)\n",
      "Requirement already satisfied: requests in c:\\users\\zahra\\desktop\\jupyterprojects\\venv\\lib\\site-packages (from webdriver-manager) (2.32.3)\n",
      "Requirement already satisfied: python-dotenv in c:\\users\\zahra\\desktop\\jupyterprojects\\venv\\lib\\site-packages (from webdriver-manager) (1.0.1)\n",
      "Requirement already satisfied: packaging in c:\\users\\zahra\\desktop\\jupyterprojects\\venv\\lib\\site-packages (from webdriver-manager) (24.1)\n",
      "Requirement already satisfied: charset-normalizer<4,>=2 in c:\\users\\zahra\\desktop\\jupyterprojects\\venv\\lib\\site-packages (from requests->webdriver-manager) (3.3.2)\n",
      "Requirement already satisfied: idna<4,>=2.5 in c:\\users\\zahra\\desktop\\jupyterprojects\\venv\\lib\\site-packages (from requests->webdriver-manager) (3.10)\n",
      "Requirement already satisfied: urllib3<3,>=1.21.1 in c:\\users\\zahra\\desktop\\jupyterprojects\\venv\\lib\\site-packages (from requests->webdriver-manager) (1.26.20)\n",
      "Requirement already satisfied: certifi>=2017.4.17 in c:\\users\\zahra\\desktop\\jupyterprojects\\venv\\lib\\site-packages (from requests->webdriver-manager) (2024.8.30)\n"
     ]
    },
    {
     "name": "stderr",
     "output_type": "stream",
     "text": [
      "\n",
      "[notice] A new release of pip is available: 23.2.1 -> 24.3.1\n",
      "[notice] To update, run: C:\\Users\\Zahra\\Desktop\\JupyterProjects\\venv\\Scripts\\python.exe -m pip install --upgrade pip\n"
     ]
    }
   ],
   "source": [
    "!pip install webdriver-manager"
   ]
  },
  {
   "cell_type": "code",
   "execution_count": 17,
   "id": "882ed647-1243-4461-9253-980b78b40281",
   "metadata": {
    "scrolled": true
   },
   "outputs": [],
   "source": [
    "# from selenium.webdriver.chrome.service import Service\n",
    "\n",
    "# PATH = r\"C:\\Users\\Zahra\\Desktop\\JupyterProjects\\chromedriver.exe\"\n",
    "# service = Service(PATH)\n",
    "# driver = webdriver.Chrome(service=service)\n",
    "# driver.get(\"https://twitter.com/i/flow/login\")\n",
    "# # driver.maximize_window()\n",
    "# sleep(3)\n",
    "from selenium import webdriver\n",
    "from selenium.webdriver.chrome.service import Service\n",
    "from selenium.webdriver.chrome.options import Options\n",
    "from selenium.webdriver.chrome.service import Service\n",
    "from webdriver_manager.chrome import ChromeDriverManager\n",
    "\n",
    "# This will automatically download the correct ChromeDriver version\n",
    "service = Service(ChromeDriverManager().install())\n",
    "options = Options()\n",
    "driver = webdriver.Chrome(service=service, options=options)"
   ]
  },
  {
   "cell_type": "code",
   "execution_count": 18,
   "id": "b1cfdfce-6867-482c-992e-4ba126d76900",
   "metadata": {},
   "outputs": [],
   "source": [
    "user_id = driver.find_element(By.XPATH,\"//input[@type='text']\")\n",
    "user_id.send_keys(my_user)\n",
    "user_id.send_keys(Keys.ENTER)"
   ]
  },
  {
   "cell_type": "code",
   "execution_count": 19,
   "id": "65c16e14-0a26-43db-806c-444daf07913f",
   "metadata": {},
   "outputs": [],
   "source": [
    "password = driver.find_element(By.XPATH,\"//input[@type='password']\")\n",
    "password.send_keys(my_pass)\n",
    "password.send_keys(Keys.ENTER)"
   ]
  },
  {
   "cell_type": "code",
   "execution_count": 20,
   "id": "cae983b0-f601-4d4d-86e8-155a0201c0a6",
   "metadata": {},
   "outputs": [],
   "source": [
    "search_item = \"INWI\"\n",
    "\n",
    "search_box = driver.find_element(By.XPATH,\"//input[@data-testid='SearchBox_Search_Input']\")\n",
    "search_box.send_keys(search_item)\n",
    "search_box.send_keys(Keys.ENTER)"
   ]
  },
  {
   "cell_type": "code",
   "execution_count": null,
   "id": "506ccb94-aa51-4748-99ff-108b2c3aa6a1",
   "metadata": {},
   "outputs": [],
   "source": []
  },
  {
   "cell_type": "code",
   "execution_count": null,
   "id": "16455d8f-64c4-47c4-b7ae-2515e3760798",
   "metadata": {},
   "outputs": [],
   "source": []
  },
  {
   "cell_type": "code",
   "execution_count": 119,
   "id": "babd95ef-af17-420a-a119-7b99ae3ba412",
   "metadata": {},
   "outputs": [],
   "source": [
    "# all_tweets = set()\n",
    "\n",
    "# # Loop until we have 20 unique tweets\n",
    "# while len(all_tweets) < 20:\n",
    "#     # Find all tweet elements\n",
    "#     tweets = driver.find_elements(By.XPATH, \"//div[@data-testid='tweetText']\")\n",
    "    \n",
    "#     # Add text of each tweet to the set\n",
    "#     for tweet in tweets:\n",
    "#         all_tweets.add(tweet.text)\n",
    "        \n",
    "#         # Break if we have collected 20 tweets\n",
    "#         if len(all_tweets) >= 20:\n",
    "#             break\n",
    "    \n",
    "#     # Scroll down and wait for new tweets to load\n",
    "#     driver.execute_script('window.scrollTo(0, document.body.scrollHeight);')\n",
    "#     sleep(3)"
   ]
  },
  {
   "cell_type": "code",
   "execution_count": 60,
   "id": "215ed081-3eeb-4e58-be05-173954e8a3cf",
   "metadata": {},
   "outputs": [],
   "source": [
    "def get_like_count(container):\n",
    "    try:\n",
    "        # Method 1: Using aria-label\n",
    "        like_button = container.find_element(By.CSS_SELECTOR, \"button[data-testid='like'][aria-label*='Likes']\")\n",
    "        likes_text = like_button.get_attribute('aria-label')\n",
    "        # Extract number from text like \"6 Likes. Like\"\n",
    "        likes_number = likes_text.split()[0]\n",
    "        return likes_number\n",
    "    except:\n",
    "        try:\n",
    "            # Method 2: Following the exact nested structure\n",
    "            like_button = container.find_element(By.CSS_SELECTOR, \"button[data-testid='like']\")\n",
    "            likes_number = like_button.find_element(\n",
    "                By.CSS_SELECTOR,\n",
    "                \"div[dir='ltr'] > div.css-175oi2r.r-xoduu5 > div.css-175oi2r.r-xoduu5.r-1udh08x > span[data-testid='app-text-transition-container'] > span > span\"\n",
    "            ).text\n",
    "            return likes_number or '0'\n",
    "        except Exception as e:\n",
    "            print(f\"Error getting like count: {str(e)}\")\n",
    "            return '0'"
   ]
  },
  {
   "cell_type": "code",
   "execution_count": 72,
   "id": "17ed5925-338a-4a9d-934d-69fe5d380690",
   "metadata": {},
   "outputs": [],
   "source": [
    "def get_retweet_count(driver):\n",
    "        # Method 1: Using aria-label\n",
    "        retweet_button = driver.find_element(By.CSS_SELECTOR, \"button[data-testid='retweet'][aria-label]\")\n",
    "        retweets_text = retweet_button.get_attribute('aria-label')\n",
    "        # Extract number from text like \"2 reposts. Repost\"\n",
    "        retweets_number = retweets_text.split()[0]\n",
    "        return retweets_number"
   ]
  },
  {
   "cell_type": "code",
   "execution_count": 73,
   "id": "8cf37fc3-360c-403f-be2e-bca351ee43c7",
   "metadata": {},
   "outputs": [],
   "source": [
    "def get_author(container):\n",
    "    try:\n",
    "        # Try to find the author (username) of the tweet\n",
    "        author_element = container.find_element(By.CSS_SELECTOR, \"div[data-testid='User-Name'] span\")\n",
    "        author_name = author_element.text\n",
    "        return author_name\n",
    "    except Exception as e:\n",
    "        # Return None if there's an error (e.g., if the element is not found)\n",
    "        print(f\"Error extracting author: {str(e)}\")\n",
    "        return None"
   ]
  },
  {
   "cell_type": "code",
   "execution_count": null,
   "id": "fb181a50-a120-43e6-9a0d-625aad64f9f7",
   "metadata": {
    "scrolled": true
   },
   "outputs": [],
   "source": []
  },
  {
   "cell_type": "code",
   "execution_count": 78,
   "id": "ef712d94-1da2-456a-bf3b-a6825a4ffbb5",
   "metadata": {
    "scrolled": true
   },
   "outputs": [
    {
     "name": "stdout",
     "output_type": "stream",
     "text": [
      "Error getting like count: Message: no such element: Unable to locate element: {\"method\":\"css selector\",\"selector\":\"div[dir='ltr'] > div.css-175oi2r.r-xoduu5 > div.css-175oi2r.r-xoduu5.r-1udh08x > span[data-testid='app-text-transition-container'] > span > span\"}\n",
      "  (Session info: chrome=130.0.6723.117); For documentation on this error, please visit: https://www.selenium.dev/documentation/webdriver/troubleshooting/errors#no-such-element-exception\n",
      "Stacktrace:\n",
      "\tGetHandleVerifier [0x00BDEBD3+24307]\n",
      "\t(No symbol) [0x00B68D74]\n",
      "\t(No symbol) [0x00A4C323]\n",
      "\t(No symbol) [0x00A8DC86]\n",
      "\t(No symbol) [0x00A8DECB]\n",
      "\t(No symbol) [0x00A83CF1]\n",
      "\t(No symbol) [0x00AAFED4]\n",
      "\t(No symbol) [0x00A83C14]\n",
      "\t(No symbol) [0x00AB0124]\n",
      "\t(No symbol) [0x00AC9579]\n",
      "\t(No symbol) [0x00AAFC26]\n",
      "\t(No symbol) [0x00A8219C]\n",
      "\t(No symbol) [0x00A8311D]\n",
      "\tGetHandleVerifier [0x00E88D93+2818227]\n",
      "\tGetHandleVerifier [0x00EE542E+3196750]\n",
      "\tGetHandleVerifier [0x00EDD9D2+3165426]\n",
      "\tGetHandleVerifier [0x00C7DA70+675216]\n",
      "\t(No symbol) [0x00B71B3D]\n",
      "\t(No symbol) [0x00B6EA18]\n",
      "\t(No symbol) [0x00B6EBB5]\n",
      "\t(No symbol) [0x00B61640]\n",
      "\tBaseThreadInitThunk [0x764F7BA9+25]\n",
      "\tRtlInitializeExceptionChain [0x776CC0CB+107]\n",
      "\tRtlClearBits [0x776CC04F+191]\n",
      "\n"
     ]
    }
   ],
   "source": [
    "all_tweets = []\n",
    "\n",
    "while len(all_tweets) < 10:  # Continue until we have exactly 10 tweets\n",
    "    tweet_containers = driver.find_elements(By.CSS_SELECTOR, \"article[data-testid='tweet']\")\n",
    "    \n",
    "    for container in tweet_containers:\n",
    "        try:\n",
    "            tweet_data = {}\n",
    "            \n",
    "            # Extract tweet text\n",
    "            tweet_text = container.find_element(By.CSS_SELECTOR, '[data-testid=\"tweetText\"]').text\n",
    "            tweet_date = container.find_element(By.XPATH, \".//time\").get_attribute('datetime')\n",
    "            \n",
    "            # Skip if we already have this tweet\n",
    "            if any(t['tweet_text'] == tweet_text for t in all_tweets):\n",
    "                continue\n",
    "                \n",
    "            tweet_data['tweet_text'] = tweet_text\n",
    "            tweet_data['tweet_date'] = tweet_date\n",
    "            tweet_data['nbr_characters'] = len(tweet_text)\n",
    "            tweet_data['nbr_retweets'] = get_retweet_count(container)\n",
    "            \n",
    "            # Extract likes using the more precise selector\n",
    "            tweet_data['nbr_likes'] = get_like_count(container)\n",
    "            tweet_data['author'] = get_author(container)\n",
    "\n",
    "            all_tweets.append(tweet_data)\n",
    "            \n",
    "            # Break out of the for loop early if we've reached 10 tweets\n",
    "            if len(all_tweets) >= 10:\n",
    "                break\n",
    "            \n",
    "        except Exception as e:\n",
    "            print(f\"Error processing tweet: {str(e)}\")\n",
    "            continue\n",
    "    \n",
    "    # Scroll to the bottom of the page\n",
    "    driver.execute_script(\"window.scrollTo(0, document.body.scrollHeight);\")\n",
    "    sleep(3)\n",
    "\n",
    "# Now all_tweets will contain exactly 10 tweets\n"
   ]
  },
  {
   "cell_type": "code",
   "execution_count": 79,
   "id": "c22cfff4-d265-46f6-9327-9f731e0bb5f5",
   "metadata": {
    "scrolled": true
   },
   "outputs": [
    {
     "name": "stdout",
     "output_type": "stream",
     "text": [
      "\n",
      "Tweet:\n",
      "Text: Orange Maroc, fier partenaire télécom de l'African Esport Championship 2024 ! \n",
      "Un partenariat qui atteste de notre engagement continu envers le développement de l'Esport au Maroc et en Afrique, en offrant une connectivité ultra-rapide et fiable, essentielle pour assurer une\n",
      "Date: 2024-08-30T13:21:59.000Z\n",
      "Characters: 274\n",
      "Likes: 0\n",
      "Retweets: 0\n",
      "Author: Orange Maroc\n",
      "\n",
      "Tweet:\n",
      "Text: Maroc Telecom ils m’ont envoyé un mec pour installer la fibre il m’a dit on va la faire passer par la fenêtre de l’appartement MDRRR\n",
      "Date: 2024-10-23T18:25:18.000Z\n",
      "Characters: 132\n",
      "Likes: 278\n",
      "Retweets: 19\n",
      "Author: \n",
      "\n",
      "Tweet:\n",
      "Text:  Le président de la Fédération d’athlétisme, Abdeslam Ahizoune, suspend les publicités de Maroc Telecom pour les médias qui l'ont critiqué.\n",
      "\n",
      " Cette mesure vise à faire taire les critiques après l’échec du Maroc aux derniers Jeux olympiques. (\n",
      "@hespress\n",
      ")\n",
      "Date: 2024-08-14T14:44:37.000Z\n",
      "Characters: 254\n",
      "Likes: 353\n",
      "Retweets: 117\n",
      "Author: Athlètes Marocains\n",
      "\n",
      "Tweet:\n",
      "Text: La tour Mohammed 6 et la tour Maroc Telecom seront illuminées par le drapeau marocain ce soir \n",
      "Date: 2022-12-20T14:12:55.000Z\n",
      "Characters: 94\n",
      "Likes: 2208\n",
      "Retweets: 264\n",
      "Author: KoraMaroc\n",
      "\n",
      "Tweet:\n",
      "Text: Que se passe t il dans les relations Mali-Maroc: Le Mali aurait mis fin au pacte d’actionnaires le liant à Maroc Telecom dans Moov Africa Malitel en prenant le contrôle de l’entreprise. Il détiendra la majorité avec 56% du capital, contre 49% auparavant...\n",
      "Explication?\n",
      "Date: 2024-10-26T07:28:55.000Z\n",
      "Characters: 269\n",
      "Likes: 21\n",
      "Retweets: 3\n",
      "Author: azizdaouda.com\n",
      "\n",
      "Tweet:\n",
      "Text: Pour ceux qui ne realisent pas ce qui est en train de se passer. \n",
      "\n",
      "Apres les accords enormes avec les EAU , et maintenant ceux avec la France , le Maroc est en train de changer radicalement de dimension.\n",
      "\n",
      "Voilà un résume aussi bref que possible sur les investissements &\n",
      "Date: 2024-10-30T20:33:21.000Z\n",
      "Characters: 270\n",
      "Likes: 4933\n",
      "Retweets: 1355\n",
      "Author: Jaf\n",
      "\n",
      "Tweet:\n",
      "Text: أجواءً رائعة مع جمهور أروع  فمهرجان الشواطيء لاتصالات المغرب\n",
      "شكرا السعيدية \n",
      "\n",
      "On a kiffé le moment avec un public extraordinaire  au festival des plages de Maroc Telecom \n",
      "Merci SAIDIA \n",
      "\n",
      "#concert #mazagan #concert #maroctelecom #festivaldesplages #saidia\n",
      "Date: 2024-08-19T15:43:30.000Z\n",
      "Characters: 252\n",
      "Likes: 0\n",
      "Retweets: 0\n",
      "Author: ISSAM KAMAL\n",
      "\n",
      "Tweet:\n",
      "Text: |Les clients de Maroc Télécom sont mécontents \n",
      "\n",
      "Les clients résidant dans les provinces sahariennes et dans les provinces orientales accusent Maroc Télécom de fournir une mauvaise connexion Internet accompagné d'un mauvais rapport qualité/prix. - relate \n",
      "@hespress\n",
      " \n",
      "\n",
      "En 6\n",
      "Date: 2024-08-22T10:16:38.000Z\n",
      "Characters: 272\n",
      "Likes: 56\n",
      "Retweets: 8\n",
      "Author: Moroccan History ۞\n",
      "\n",
      "Tweet:\n",
      "Text:  In rally raid, it is about teamwork, perseverance, and helping others along the way. By \n",
      "@OCPGroup\n",
      " #RallyeduMaroc\n",
      "@Maroc_Telecom\n",
      " @OCPGroup\n",
      " #Afriquia #DEXT \n",
      "@visit_morocco_\n",
      "Date: 2024-10-11T15:31:23.000Z\n",
      "Characters: 175\n",
      "Likes: 7\n",
      "Retweets: 1\n",
      "Author: Rallye Du Maroc\n",
      "\n",
      "Tweet:\n",
      "Text: Télécoms : Hausse de 2,3% du bénéfice consolidé du Groupe Maroc Telecom à fin septembre 2024\n",
      "Le bénéfice consolidé du Groupe Maroc Telecom, quicompte des filiales sous la marque Moov Africa\n",
      "https://financialafrik.com/2024/10/30/telecoms-hausse-de-23-du-benefice-consolide-du-groupe-maroc-telecom-a-fin-septembre-2024/…\n",
      "Date: 2024-10-30T23:57:16.000Z\n",
      "Characters: 318\n",
      "Likes: 0\n",
      "Retweets: 0\n",
      "Author: Financial Afrik\n"
     ]
    }
   ],
   "source": [
    "# Print results\n",
    "for tweet in all_tweets:\n",
    "    print(\"\\nTweet:\")\n",
    "    print(f\"Text: {tweet['tweet_text']}\")\n",
    "    print(f\"Date: {tweet['tweet_date']}\")\n",
    "    print(f\"Characters: {tweet['nbr_caracters']}\")\n",
    "    print(f\"Likes: {tweet['nbr_likes']}\")\n",
    "    print(f\"Retweets: {tweet['nbr_retweets']}\")\n",
    "    print(f\"Author: {tweet['author']}\")"
   ]
  },
  {
   "cell_type": "code",
   "execution_count": null,
   "id": "7689a757-ce09-4c53-9603-9c8663c8817f",
   "metadata": {},
   "outputs": [],
   "source": []
  },
  {
   "cell_type": "code",
   "execution_count": 100,
   "id": "48284fe4-ebba-47ce-8bfd-9c7c2ed21222",
   "metadata": {},
   "outputs": [
    {
     "name": "stdout",
     "output_type": "stream",
     "text": [
      "Data inserted successfully!\n"
     ]
    }
   ],
   "source": [
    "import sqlite3\n",
    "from datetime import datetime\n",
    "\n",
    "# SQLite database connection\n",
    "conn = sqlite3.connect('tweetsData.db')\n",
    "cursor = conn.cursor()\n",
    "\n",
    "# Create the table (if not exists)\n",
    "cursor.execute(\"\"\"\n",
    "CREATE TABLE IF NOT EXISTS tweets (\n",
    "    id INTEGER PRIMARY KEY AUTOINCREMENT,  \n",
    "    tweet_text TEXT NOT NULL,              \n",
    "    tweet_date DATETIME,                   \n",
    "    nbr_characters INTEGER,                \n",
    "    nbr_retweets INTEGER,                  \n",
    "    nbr_likes INTEGER,                     \n",
    "    author TEXT\n",
    ");\n",
    "\"\"\")\n",
    "\n",
    "# Prepare insert statement for tweets\n",
    "insert_query = \"\"\"\n",
    "INSERT INTO tweets (tweet_text, tweet_date, nbr_characters, nbr_retweets, nbr_likes, author)\n",
    "VALUES (?, ?, ?, ?, ?, ?);\n",
    "\"\"\"\n",
    "\n",
    "# Iterate over the tweets and insert them into the database\n",
    "for tweet in all_tweets:\n",
    "    tweet_text = tweet['tweet_text']\n",
    "    tweet_date = datetime.strptime(tweet['tweet_date'], '%Y-%m-%dT%H:%M:%S.000Z')  # Convert string to datetime\n",
    "    nbr_characters = int(tweet['nbr_caracters'])\n",
    "    nbr_retweets = int(tweet['nbr_retweets'])  # Convert to integer\n",
    "    nbr_likes = int(tweet['nbr_likes'])  # Convert to integer\n",
    "    author = tweet['author']\n",
    "\n",
    "    cursor.execute(insert_query, (tweet_text, tweet_date, nbr_characters, nbr_retweets, nbr_likes, author))\n",
    "\n",
    "# Commit and close the connection\n",
    "conn.commit()\n",
    "cursor.close()\n",
    "conn.close()\n",
    "\n",
    "print(\"Data inserted successfully!\")"
   ]
  },
  {
   "cell_type": "code",
   "execution_count": 102,
   "id": "b2d2649f-766d-41fc-90ec-ad026e08b658",
   "metadata": {
    "scrolled": true
   },
   "outputs": [
    {
     "name": "stdout",
     "output_type": "stream",
     "text": [
      "(1, \"Orange Maroc, fier partenaire télécom de l'African Esport Championship 2024 ! \\nUn partenariat qui atteste de notre engagement continu envers le développement de l'Esport au Maroc et en Afrique, en offrant une connectivité ultra-rapide et fiable, essentielle pour assurer une\", '2024-08-30 13:21:59', 274, 0, 0, 'Orange Maroc')\n",
      "(2, 'Maroc Telecom ils m’ont envoyé un mec pour installer la fibre il m’a dit on va la faire passer par la fenêtre de l’appartement MDRRR', '2024-10-23 18:25:18', 132, 19, 278, '')\n",
      "(3, \" Le président de la Fédération d’athlétisme, Abdeslam Ahizoune, suspend les publicités de Maroc Telecom pour les médias qui l'ont critiqué.\\n\\n Cette mesure vise à faire taire les critiques après l’échec du Maroc aux derniers Jeux olympiques. (\\n@hespress\\n)\", '2024-08-14 14:44:37', 254, 117, 353, 'Athlètes Marocains')\n",
      "(4, 'La tour Mohammed 6 et la tour Maroc Telecom seront illuminées par le drapeau marocain ce soir ', '2022-12-20 14:12:55', 94, 264, 2208, 'KoraMaroc')\n",
      "(5, 'Que se passe t il dans les relations Mali-Maroc: Le Mali aurait mis fin au pacte d’actionnaires le liant à Maroc Telecom dans Moov Africa Malitel en prenant le contrôle de l’entreprise. Il détiendra la majorité avec 56% du capital, contre 49% auparavant...\\nExplication?', '2024-10-26 07:28:55', 269, 3, 21, 'azizdaouda.com')\n",
      "(6, 'Pour ceux qui ne realisent pas ce qui est en train de se passer. \\n\\nApres les accords enormes avec les EAU , et maintenant ceux avec la France , le Maroc est en train de changer radicalement de dimension.\\n\\nVoilà un résume aussi bref que possible sur les investissements &', '2024-10-30 20:33:21', 270, 1355, 4933, 'Jaf')\n",
      "(7, 'أجواءً رائعة مع جمهور أروع  فمهرجان الشواطيء لاتصالات المغرب\\nشكرا السعيدية \\n\\nOn a kiffé le moment avec un public extraordinaire  au festival des plages de Maroc Telecom \\nMerci SAIDIA \\n\\n#concert #mazagan #concert #maroctelecom #festivaldesplages #saidia', '2024-08-19 15:43:30', 252, 0, 0, 'ISSAM KAMAL')\n",
      "(8, \"|Les clients de Maroc Télécom sont mécontents \\n\\nLes clients résidant dans les provinces sahariennes et dans les provinces orientales accusent Maroc Télécom de fournir une mauvaise connexion Internet accompagné d'un mauvais rapport qualité/prix. - relate \\n@hespress\\n \\n\\nEn 6\", '2024-08-22 10:16:38', 272, 8, 56, 'Moroccan History ۞')\n",
      "(9, ' In rally raid, it is about teamwork, perseverance, and helping others along the way. By \\n@OCPGroup\\n #RallyeduMaroc\\n@Maroc_Telecom\\n @OCPGroup\\n #Afriquia #DEXT \\n@visit_morocco_', '2024-10-11 15:31:23', 175, 1, 7, 'Rallye Du Maroc')\n",
      "(10, 'Télécoms : Hausse de 2,3% du bénéfice consolidé du Groupe Maroc Telecom à fin septembre 2024\\nLe bénéfice consolidé du Groupe Maroc Telecom, quicompte des filiales sous la marque Moov Africa\\nhttps://financialafrik.com/2024/10/30/telecoms-hausse-de-23-du-benefice-consolide-du-groupe-maroc-telecom-a-fin-septembre-2024/…', '2024-10-30 23:57:16', 318, 0, 0, 'Financial Afrik')\n"
     ]
    }
   ],
   "source": [
    "import sqlite3\n",
    "\n",
    "# Connect to SQLite database\n",
    "conn = sqlite3.connect('tweetsData.db')\n",
    "cursor = conn.cursor()\n",
    "\n",
    "# Select all rows from the 'tweets' table\n",
    "cursor.execute(\"SELECT * FROM tweets;\")\n",
    "rows = cursor.fetchall()\n",
    "\n",
    "# Print each row\n",
    "for row in rows:\n",
    "    print(row)\n",
    "\n",
    "# Close the cursor and connection\n",
    "cursor.close()\n",
    "conn.close()"
   ]
  },
  {
   "cell_type": "code",
   "execution_count": null,
   "id": "56d7c408-ecd7-46fa-9cf9-d6230357023a",
   "metadata": {
    "scrolled": true
   },
   "outputs": [],
   "source": []
  },
  {
   "cell_type": "code",
   "execution_count": null,
   "id": "3b1e18f4-a29b-45f2-a286-fd5343d19c8b",
   "metadata": {},
   "outputs": [],
   "source": []
  },
  {
   "cell_type": "code",
   "execution_count": null,
   "id": "7170c381-6d2e-4645-8985-58c5e3ea663a",
   "metadata": {},
   "outputs": [],
   "source": []
  },
  {
   "cell_type": "code",
   "execution_count": null,
   "id": "01ce7923-2f48-407f-87df-a046f98e4e28",
   "metadata": {
    "scrolled": true
   },
   "outputs": [],
   "source": []
  },
  {
   "cell_type": "code",
   "execution_count": null,
   "id": "3999ec17-d188-458a-b4fa-e01f8d802dde",
   "metadata": {},
   "outputs": [],
   "source": [
    "\n"
   ]
  },
  {
   "cell_type": "code",
   "execution_count": null,
   "id": "1e86623e-5946-4066-a34d-e8b3785316a6",
   "metadata": {},
   "outputs": [],
   "source": []
  },
  {
   "cell_type": "code",
   "execution_count": null,
   "id": "e352ca26-f6b5-4186-b5fd-e4ff0b512c36",
   "metadata": {},
   "outputs": [],
   "source": []
  },
  {
   "cell_type": "code",
   "execution_count": null,
   "id": "8a95fb70-7a9f-4ba1-ad8b-026fbe10be49",
   "metadata": {},
   "outputs": [],
   "source": []
  }
 ],
 "metadata": {
  "kernelspec": {
   "display_name": "Python 3 (ipykernel)",
   "language": "python",
   "name": "python3"
  },
  "language_info": {
   "codemirror_mode": {
    "name": "ipython",
    "version": 3
   },
   "file_extension": ".py",
   "mimetype": "text/x-python",
   "name": "python",
   "nbconvert_exporter": "python",
   "pygments_lexer": "ipython3",
   "version": "3.11.7"
  }
 },
 "nbformat": 4,
 "nbformat_minor": 5
}
